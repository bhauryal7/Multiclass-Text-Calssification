{
  "nbformat": 4,
  "nbformat_minor": 0,
  "metadata": {
    "colab": {
      "provenance": []
    },
    "kernelspec": {
      "name": "python3",
      "display_name": "Python 3"
    },
    "language_info": {
      "name": "python"
    }
  },
  "cells": [
    {
      "cell_type": "code",
      "source": [
        "import pandas as pd\n",
        "import numpy as np"
      ],
      "metadata": {
        "id": "fUM5jAvMl2uL"
      },
      "execution_count": 1,
      "outputs": []
    },
    {
      "cell_type": "code",
      "execution_count": 2,
      "metadata": {
        "id": "yaP7ZEfJk2SR"
      },
      "outputs": [],
      "source": [
        "#Load ML Packages\n",
        "from sklearn.multioutput import MultiOutputClassifier\n",
        "from sklearn.ensemble import BaggingClassifier\n",
        "from sklearn.linear_model import LogisticRegression\n",
        "from sklearn.ensemble import GradientBoostingClassifier\n",
        "from sklearn.ensemble import RandomForestClassifier\n",
        "from sklearn.neighbors import KNeighborsClassifier\n",
        "from sklearn.feature_extraction.text import CountVectorizer, TfidfVectorizer\n",
        "from sklearn.metrics import roc_auc_score\n",
        "from sklearn.feature_extraction.text import TfidfVectorizer\n",
        "from sklearn.metrics import accuracy_score, confusion_matrix\n",
        "#Others\n",
        "from sklearn.model_selection import train_test_split\n",
        "from sklearn.pipeline import Pipeline\n",
        "from sklearn.utils import resample"
      ]
    },
    {
      "cell_type": "code",
      "source": [
        "df=pd.read_excel('Data-reduced.xlsx')\n",
        "df.head(10)"
      ],
      "metadata": {
        "colab": {
          "base_uri": "https://localhost:8080/",
          "height": 363
        },
        "id": "DDWI815Dlpj4",
        "outputId": "11986af7-51bf-4b9c-d302-25e874cd5a2b"
      },
      "execution_count": 3,
      "outputs": [
        {
          "output_type": "execute_result",
          "data": {
            "text/plain": [
              "  Check FC                          DESCRIPTION       Herstellung\n",
              "0      NaN              .Smoothfood Brot 48x70g      Brot, übrige\n",
              "1        1           \"Apfel Boskoop \"Thurgauer\"          Äpfel CH\n",
              "2        1                \"Aprikosen \"ROUGECOT\"         Aprikosen\n",
              "3        1              \"Aprikosen \"VANILLACOT\"         Aprikosen\n",
              "4        1           \"Aprikosen AAA  \"Walliser\"         Aprikosen\n",
              "5      NaN          \"Artischocken 13er \"CASTEL\"        Gemüse, KA\n",
              "6      NaN      \"Artischocken CASTEL \"Bretagne\"        Gemüse, KA\n",
              "7      NaN  \"Basilikum süss \"\"Horapah\"\", 100 g\"  Kräuter, diverse\n",
              "8        1           \"Birnen Celina \"Thurgauer\"         Birnen CH\n",
              "9        1       \"Birnen Conference \"Thurgauer\"         Birnen CH"
            ],
            "text/html": [
              "\n",
              "  <div id=\"df-a9abd969-5162-413e-bd0b-5541025650e8\" class=\"colab-df-container\">\n",
              "    <div>\n",
              "<style scoped>\n",
              "    .dataframe tbody tr th:only-of-type {\n",
              "        vertical-align: middle;\n",
              "    }\n",
              "\n",
              "    .dataframe tbody tr th {\n",
              "        vertical-align: top;\n",
              "    }\n",
              "\n",
              "    .dataframe thead th {\n",
              "        text-align: right;\n",
              "    }\n",
              "</style>\n",
              "<table border=\"1\" class=\"dataframe\">\n",
              "  <thead>\n",
              "    <tr style=\"text-align: right;\">\n",
              "      <th></th>\n",
              "      <th>Check FC</th>\n",
              "      <th>DESCRIPTION</th>\n",
              "      <th>Herstellung</th>\n",
              "    </tr>\n",
              "  </thead>\n",
              "  <tbody>\n",
              "    <tr>\n",
              "      <th>0</th>\n",
              "      <td>NaN</td>\n",
              "      <td>.Smoothfood Brot 48x70g</td>\n",
              "      <td>Brot, übrige</td>\n",
              "    </tr>\n",
              "    <tr>\n",
              "      <th>1</th>\n",
              "      <td>1</td>\n",
              "      <td>\"Apfel Boskoop \"Thurgauer\"</td>\n",
              "      <td>Äpfel CH</td>\n",
              "    </tr>\n",
              "    <tr>\n",
              "      <th>2</th>\n",
              "      <td>1</td>\n",
              "      <td>\"Aprikosen \"ROUGECOT\"</td>\n",
              "      <td>Aprikosen</td>\n",
              "    </tr>\n",
              "    <tr>\n",
              "      <th>3</th>\n",
              "      <td>1</td>\n",
              "      <td>\"Aprikosen \"VANILLACOT\"</td>\n",
              "      <td>Aprikosen</td>\n",
              "    </tr>\n",
              "    <tr>\n",
              "      <th>4</th>\n",
              "      <td>1</td>\n",
              "      <td>\"Aprikosen AAA  \"Walliser\"</td>\n",
              "      <td>Aprikosen</td>\n",
              "    </tr>\n",
              "    <tr>\n",
              "      <th>5</th>\n",
              "      <td>NaN</td>\n",
              "      <td>\"Artischocken 13er \"CASTEL\"</td>\n",
              "      <td>Gemüse, KA</td>\n",
              "    </tr>\n",
              "    <tr>\n",
              "      <th>6</th>\n",
              "      <td>NaN</td>\n",
              "      <td>\"Artischocken CASTEL \"Bretagne\"</td>\n",
              "      <td>Gemüse, KA</td>\n",
              "    </tr>\n",
              "    <tr>\n",
              "      <th>7</th>\n",
              "      <td>NaN</td>\n",
              "      <td>\"Basilikum süss \"\"Horapah\"\", 100 g\"</td>\n",
              "      <td>Kräuter, diverse</td>\n",
              "    </tr>\n",
              "    <tr>\n",
              "      <th>8</th>\n",
              "      <td>1</td>\n",
              "      <td>\"Birnen Celina \"Thurgauer\"</td>\n",
              "      <td>Birnen CH</td>\n",
              "    </tr>\n",
              "    <tr>\n",
              "      <th>9</th>\n",
              "      <td>1</td>\n",
              "      <td>\"Birnen Conference \"Thurgauer\"</td>\n",
              "      <td>Birnen CH</td>\n",
              "    </tr>\n",
              "  </tbody>\n",
              "</table>\n",
              "</div>\n",
              "    <div class=\"colab-df-buttons\">\n",
              "\n",
              "  <div class=\"colab-df-container\">\n",
              "    <button class=\"colab-df-convert\" onclick=\"convertToInteractive('df-a9abd969-5162-413e-bd0b-5541025650e8')\"\n",
              "            title=\"Convert this dataframe to an interactive table.\"\n",
              "            style=\"display:none;\">\n",
              "\n",
              "  <svg xmlns=\"http://www.w3.org/2000/svg\" height=\"24px\" viewBox=\"0 -960 960 960\">\n",
              "    <path d=\"M120-120v-720h720v720H120Zm60-500h600v-160H180v160Zm220 220h160v-160H400v160Zm0 220h160v-160H400v160ZM180-400h160v-160H180v160Zm440 0h160v-160H620v160ZM180-180h160v-160H180v160Zm440 0h160v-160H620v160Z\"/>\n",
              "  </svg>\n",
              "    </button>\n",
              "\n",
              "  <style>\n",
              "    .colab-df-container {\n",
              "      display:flex;\n",
              "      gap: 12px;\n",
              "    }\n",
              "\n",
              "    .colab-df-convert {\n",
              "      background-color: #E8F0FE;\n",
              "      border: none;\n",
              "      border-radius: 50%;\n",
              "      cursor: pointer;\n",
              "      display: none;\n",
              "      fill: #1967D2;\n",
              "      height: 32px;\n",
              "      padding: 0 0 0 0;\n",
              "      width: 32px;\n",
              "    }\n",
              "\n",
              "    .colab-df-convert:hover {\n",
              "      background-color: #E2EBFA;\n",
              "      box-shadow: 0px 1px 2px rgba(60, 64, 67, 0.3), 0px 1px 3px 1px rgba(60, 64, 67, 0.15);\n",
              "      fill: #174EA6;\n",
              "    }\n",
              "\n",
              "    .colab-df-buttons div {\n",
              "      margin-bottom: 4px;\n",
              "    }\n",
              "\n",
              "    [theme=dark] .colab-df-convert {\n",
              "      background-color: #3B4455;\n",
              "      fill: #D2E3FC;\n",
              "    }\n",
              "\n",
              "    [theme=dark] .colab-df-convert:hover {\n",
              "      background-color: #434B5C;\n",
              "      box-shadow: 0px 1px 3px 1px rgba(0, 0, 0, 0.15);\n",
              "      filter: drop-shadow(0px 1px 2px rgba(0, 0, 0, 0.3));\n",
              "      fill: #FFFFFF;\n",
              "    }\n",
              "  </style>\n",
              "\n",
              "    <script>\n",
              "      const buttonEl =\n",
              "        document.querySelector('#df-a9abd969-5162-413e-bd0b-5541025650e8 button.colab-df-convert');\n",
              "      buttonEl.style.display =\n",
              "        google.colab.kernel.accessAllowed ? 'block' : 'none';\n",
              "\n",
              "      async function convertToInteractive(key) {\n",
              "        const element = document.querySelector('#df-a9abd969-5162-413e-bd0b-5541025650e8');\n",
              "        const dataTable =\n",
              "          await google.colab.kernel.invokeFunction('convertToInteractive',\n",
              "                                                    [key], {});\n",
              "        if (!dataTable) return;\n",
              "\n",
              "        const docLinkHtml = 'Like what you see? Visit the ' +\n",
              "          '<a target=\"_blank\" href=https://colab.research.google.com/notebooks/data_table.ipynb>data table notebook</a>'\n",
              "          + ' to learn more about interactive tables.';\n",
              "        element.innerHTML = '';\n",
              "        dataTable['output_type'] = 'display_data';\n",
              "        await google.colab.output.renderOutput(dataTable, element);\n",
              "        const docLink = document.createElement('div');\n",
              "        docLink.innerHTML = docLinkHtml;\n",
              "        element.appendChild(docLink);\n",
              "      }\n",
              "    </script>\n",
              "  </div>\n",
              "\n",
              "\n",
              "<div id=\"df-d43b2506-3d46-47ab-ad00-fab8492771cf\">\n",
              "  <button class=\"colab-df-quickchart\" onclick=\"quickchart('df-d43b2506-3d46-47ab-ad00-fab8492771cf')\"\n",
              "            title=\"Suggest charts\"\n",
              "            style=\"display:none;\">\n",
              "\n",
              "<svg xmlns=\"http://www.w3.org/2000/svg\" height=\"24px\"viewBox=\"0 0 24 24\"\n",
              "     width=\"24px\">\n",
              "    <g>\n",
              "        <path d=\"M19 3H5c-1.1 0-2 .9-2 2v14c0 1.1.9 2 2 2h14c1.1 0 2-.9 2-2V5c0-1.1-.9-2-2-2zM9 17H7v-7h2v7zm4 0h-2V7h2v10zm4 0h-2v-4h2v4z\"/>\n",
              "    </g>\n",
              "</svg>\n",
              "  </button>\n",
              "\n",
              "<style>\n",
              "  .colab-df-quickchart {\n",
              "      --bg-color: #E8F0FE;\n",
              "      --fill-color: #1967D2;\n",
              "      --hover-bg-color: #E2EBFA;\n",
              "      --hover-fill-color: #174EA6;\n",
              "      --disabled-fill-color: #AAA;\n",
              "      --disabled-bg-color: #DDD;\n",
              "  }\n",
              "\n",
              "  [theme=dark] .colab-df-quickchart {\n",
              "      --bg-color: #3B4455;\n",
              "      --fill-color: #D2E3FC;\n",
              "      --hover-bg-color: #434B5C;\n",
              "      --hover-fill-color: #FFFFFF;\n",
              "      --disabled-bg-color: #3B4455;\n",
              "      --disabled-fill-color: #666;\n",
              "  }\n",
              "\n",
              "  .colab-df-quickchart {\n",
              "    background-color: var(--bg-color);\n",
              "    border: none;\n",
              "    border-radius: 50%;\n",
              "    cursor: pointer;\n",
              "    display: none;\n",
              "    fill: var(--fill-color);\n",
              "    height: 32px;\n",
              "    padding: 0;\n",
              "    width: 32px;\n",
              "  }\n",
              "\n",
              "  .colab-df-quickchart:hover {\n",
              "    background-color: var(--hover-bg-color);\n",
              "    box-shadow: 0 1px 2px rgba(60, 64, 67, 0.3), 0 1px 3px 1px rgba(60, 64, 67, 0.15);\n",
              "    fill: var(--button-hover-fill-color);\n",
              "  }\n",
              "\n",
              "  .colab-df-quickchart-complete:disabled,\n",
              "  .colab-df-quickchart-complete:disabled:hover {\n",
              "    background-color: var(--disabled-bg-color);\n",
              "    fill: var(--disabled-fill-color);\n",
              "    box-shadow: none;\n",
              "  }\n",
              "\n",
              "  .colab-df-spinner {\n",
              "    border: 2px solid var(--fill-color);\n",
              "    border-color: transparent;\n",
              "    border-bottom-color: var(--fill-color);\n",
              "    animation:\n",
              "      spin 1s steps(1) infinite;\n",
              "  }\n",
              "\n",
              "  @keyframes spin {\n",
              "    0% {\n",
              "      border-color: transparent;\n",
              "      border-bottom-color: var(--fill-color);\n",
              "      border-left-color: var(--fill-color);\n",
              "    }\n",
              "    20% {\n",
              "      border-color: transparent;\n",
              "      border-left-color: var(--fill-color);\n",
              "      border-top-color: var(--fill-color);\n",
              "    }\n",
              "    30% {\n",
              "      border-color: transparent;\n",
              "      border-left-color: var(--fill-color);\n",
              "      border-top-color: var(--fill-color);\n",
              "      border-right-color: var(--fill-color);\n",
              "    }\n",
              "    40% {\n",
              "      border-color: transparent;\n",
              "      border-right-color: var(--fill-color);\n",
              "      border-top-color: var(--fill-color);\n",
              "    }\n",
              "    60% {\n",
              "      border-color: transparent;\n",
              "      border-right-color: var(--fill-color);\n",
              "    }\n",
              "    80% {\n",
              "      border-color: transparent;\n",
              "      border-right-color: var(--fill-color);\n",
              "      border-bottom-color: var(--fill-color);\n",
              "    }\n",
              "    90% {\n",
              "      border-color: transparent;\n",
              "      border-bottom-color: var(--fill-color);\n",
              "    }\n",
              "  }\n",
              "</style>\n",
              "\n",
              "  <script>\n",
              "    async function quickchart(key) {\n",
              "      const quickchartButtonEl =\n",
              "        document.querySelector('#' + key + ' button');\n",
              "      quickchartButtonEl.disabled = true;  // To prevent multiple clicks.\n",
              "      quickchartButtonEl.classList.add('colab-df-spinner');\n",
              "      try {\n",
              "        const charts = await google.colab.kernel.invokeFunction(\n",
              "            'suggestCharts', [key], {});\n",
              "      } catch (error) {\n",
              "        console.error('Error during call to suggestCharts:', error);\n",
              "      }\n",
              "      quickchartButtonEl.classList.remove('colab-df-spinner');\n",
              "      quickchartButtonEl.classList.add('colab-df-quickchart-complete');\n",
              "    }\n",
              "    (() => {\n",
              "      let quickchartButtonEl =\n",
              "        document.querySelector('#df-d43b2506-3d46-47ab-ad00-fab8492771cf button');\n",
              "      quickchartButtonEl.style.display =\n",
              "        google.colab.kernel.accessAllowed ? 'block' : 'none';\n",
              "    })();\n",
              "  </script>\n",
              "</div>\n",
              "\n",
              "    </div>\n",
              "  </div>\n"
            ],
            "application/vnd.google.colaboratory.intrinsic+json": {
              "type": "dataframe",
              "variable_name": "df",
              "summary": "{\n  \"name\": \"df\",\n  \"rows\": 42258,\n  \"fields\": [\n    {\n      \"column\": \"Check FC\",\n      \"properties\": {\n        \"dtype\": \"category\",\n        \"num_unique_values\": 4,\n        \"samples\": [\n          0,\n          11,\n          1\n        ],\n        \"semantic_type\": \"\",\n        \"description\": \"\"\n      }\n    },\n    {\n      \"column\": \"DESCRIPTION\",\n      \"properties\": {\n        \"dtype\": \"string\",\n        \"num_unique_values\": 42258,\n        \"samples\": [\n          \"Landrauchschinken geschnitten 250g Schale\",\n          \"Tafelbirnen VERMONT  BEAUTY GUD\",\n          \"Raclette Emmi Classic Scheiben 7.5x7.5cm 33g 400g\"\n        ],\n        \"semantic_type\": \"\",\n        \"description\": \"\"\n      }\n    },\n    {\n      \"column\": \"Herstellung\",\n      \"properties\": {\n        \"dtype\": \"category\",\n        \"num_unique_values\": 358,\n        \"samples\": [\n          \"Salat ungeheizt EU\",\n          \"Salatsaucen\",\n          \"Kohlgem\\u00fcse, \\u00fcbrige, ungeheizt EU\"\n        ],\n        \"semantic_type\": \"\",\n        \"description\": \"\"\n      }\n    }\n  ]\n}"
            }
          },
          "metadata": {},
          "execution_count": 3
        }
      ]
    },
    {
      "cell_type": "code",
      "source": [
        "df = df[(df['Check FC'] == 1) | (df['Check FC'].isna())]\n",
        "df=df[['DESCRIPTION','Herstellung']]\n",
        "df.head()\n"
      ],
      "metadata": {
        "colab": {
          "base_uri": "https://localhost:8080/",
          "height": 206
        },
        "id": "_2S6r-2Cl0NP",
        "outputId": "4ae52145-229c-43d2-b997-5b07b7b93163"
      },
      "execution_count": 4,
      "outputs": [
        {
          "output_type": "execute_result",
          "data": {
            "text/plain": [
              "                  DESCRIPTION   Herstellung\n",
              "0     .Smoothfood Brot 48x70g  Brot, übrige\n",
              "1  \"Apfel Boskoop \"Thurgauer\"      Äpfel CH\n",
              "2       \"Aprikosen \"ROUGECOT\"     Aprikosen\n",
              "3     \"Aprikosen \"VANILLACOT\"     Aprikosen\n",
              "4  \"Aprikosen AAA  \"Walliser\"     Aprikosen"
            ],
            "text/html": [
              "\n",
              "  <div id=\"df-d839c815-6c4d-4c67-b1e5-3b6550032796\" class=\"colab-df-container\">\n",
              "    <div>\n",
              "<style scoped>\n",
              "    .dataframe tbody tr th:only-of-type {\n",
              "        vertical-align: middle;\n",
              "    }\n",
              "\n",
              "    .dataframe tbody tr th {\n",
              "        vertical-align: top;\n",
              "    }\n",
              "\n",
              "    .dataframe thead th {\n",
              "        text-align: right;\n",
              "    }\n",
              "</style>\n",
              "<table border=\"1\" class=\"dataframe\">\n",
              "  <thead>\n",
              "    <tr style=\"text-align: right;\">\n",
              "      <th></th>\n",
              "      <th>DESCRIPTION</th>\n",
              "      <th>Herstellung</th>\n",
              "    </tr>\n",
              "  </thead>\n",
              "  <tbody>\n",
              "    <tr>\n",
              "      <th>0</th>\n",
              "      <td>.Smoothfood Brot 48x70g</td>\n",
              "      <td>Brot, übrige</td>\n",
              "    </tr>\n",
              "    <tr>\n",
              "      <th>1</th>\n",
              "      <td>\"Apfel Boskoop \"Thurgauer\"</td>\n",
              "      <td>Äpfel CH</td>\n",
              "    </tr>\n",
              "    <tr>\n",
              "      <th>2</th>\n",
              "      <td>\"Aprikosen \"ROUGECOT\"</td>\n",
              "      <td>Aprikosen</td>\n",
              "    </tr>\n",
              "    <tr>\n",
              "      <th>3</th>\n",
              "      <td>\"Aprikosen \"VANILLACOT\"</td>\n",
              "      <td>Aprikosen</td>\n",
              "    </tr>\n",
              "    <tr>\n",
              "      <th>4</th>\n",
              "      <td>\"Aprikosen AAA  \"Walliser\"</td>\n",
              "      <td>Aprikosen</td>\n",
              "    </tr>\n",
              "  </tbody>\n",
              "</table>\n",
              "</div>\n",
              "    <div class=\"colab-df-buttons\">\n",
              "\n",
              "  <div class=\"colab-df-container\">\n",
              "    <button class=\"colab-df-convert\" onclick=\"convertToInteractive('df-d839c815-6c4d-4c67-b1e5-3b6550032796')\"\n",
              "            title=\"Convert this dataframe to an interactive table.\"\n",
              "            style=\"display:none;\">\n",
              "\n",
              "  <svg xmlns=\"http://www.w3.org/2000/svg\" height=\"24px\" viewBox=\"0 -960 960 960\">\n",
              "    <path d=\"M120-120v-720h720v720H120Zm60-500h600v-160H180v160Zm220 220h160v-160H400v160Zm0 220h160v-160H400v160ZM180-400h160v-160H180v160Zm440 0h160v-160H620v160ZM180-180h160v-160H180v160Zm440 0h160v-160H620v160Z\"/>\n",
              "  </svg>\n",
              "    </button>\n",
              "\n",
              "  <style>\n",
              "    .colab-df-container {\n",
              "      display:flex;\n",
              "      gap: 12px;\n",
              "    }\n",
              "\n",
              "    .colab-df-convert {\n",
              "      background-color: #E8F0FE;\n",
              "      border: none;\n",
              "      border-radius: 50%;\n",
              "      cursor: pointer;\n",
              "      display: none;\n",
              "      fill: #1967D2;\n",
              "      height: 32px;\n",
              "      padding: 0 0 0 0;\n",
              "      width: 32px;\n",
              "    }\n",
              "\n",
              "    .colab-df-convert:hover {\n",
              "      background-color: #E2EBFA;\n",
              "      box-shadow: 0px 1px 2px rgba(60, 64, 67, 0.3), 0px 1px 3px 1px rgba(60, 64, 67, 0.15);\n",
              "      fill: #174EA6;\n",
              "    }\n",
              "\n",
              "    .colab-df-buttons div {\n",
              "      margin-bottom: 4px;\n",
              "    }\n",
              "\n",
              "    [theme=dark] .colab-df-convert {\n",
              "      background-color: #3B4455;\n",
              "      fill: #D2E3FC;\n",
              "    }\n",
              "\n",
              "    [theme=dark] .colab-df-convert:hover {\n",
              "      background-color: #434B5C;\n",
              "      box-shadow: 0px 1px 3px 1px rgba(0, 0, 0, 0.15);\n",
              "      filter: drop-shadow(0px 1px 2px rgba(0, 0, 0, 0.3));\n",
              "      fill: #FFFFFF;\n",
              "    }\n",
              "  </style>\n",
              "\n",
              "    <script>\n",
              "      const buttonEl =\n",
              "        document.querySelector('#df-d839c815-6c4d-4c67-b1e5-3b6550032796 button.colab-df-convert');\n",
              "      buttonEl.style.display =\n",
              "        google.colab.kernel.accessAllowed ? 'block' : 'none';\n",
              "\n",
              "      async function convertToInteractive(key) {\n",
              "        const element = document.querySelector('#df-d839c815-6c4d-4c67-b1e5-3b6550032796');\n",
              "        const dataTable =\n",
              "          await google.colab.kernel.invokeFunction('convertToInteractive',\n",
              "                                                    [key], {});\n",
              "        if (!dataTable) return;\n",
              "\n",
              "        const docLinkHtml = 'Like what you see? Visit the ' +\n",
              "          '<a target=\"_blank\" href=https://colab.research.google.com/notebooks/data_table.ipynb>data table notebook</a>'\n",
              "          + ' to learn more about interactive tables.';\n",
              "        element.innerHTML = '';\n",
              "        dataTable['output_type'] = 'display_data';\n",
              "        await google.colab.output.renderOutput(dataTable, element);\n",
              "        const docLink = document.createElement('div');\n",
              "        docLink.innerHTML = docLinkHtml;\n",
              "        element.appendChild(docLink);\n",
              "      }\n",
              "    </script>\n",
              "  </div>\n",
              "\n",
              "\n",
              "<div id=\"df-082c1bdc-8c84-48a7-8d7a-8f840740679e\">\n",
              "  <button class=\"colab-df-quickchart\" onclick=\"quickchart('df-082c1bdc-8c84-48a7-8d7a-8f840740679e')\"\n",
              "            title=\"Suggest charts\"\n",
              "            style=\"display:none;\">\n",
              "\n",
              "<svg xmlns=\"http://www.w3.org/2000/svg\" height=\"24px\"viewBox=\"0 0 24 24\"\n",
              "     width=\"24px\">\n",
              "    <g>\n",
              "        <path d=\"M19 3H5c-1.1 0-2 .9-2 2v14c0 1.1.9 2 2 2h14c1.1 0 2-.9 2-2V5c0-1.1-.9-2-2-2zM9 17H7v-7h2v7zm4 0h-2V7h2v10zm4 0h-2v-4h2v4z\"/>\n",
              "    </g>\n",
              "</svg>\n",
              "  </button>\n",
              "\n",
              "<style>\n",
              "  .colab-df-quickchart {\n",
              "      --bg-color: #E8F0FE;\n",
              "      --fill-color: #1967D2;\n",
              "      --hover-bg-color: #E2EBFA;\n",
              "      --hover-fill-color: #174EA6;\n",
              "      --disabled-fill-color: #AAA;\n",
              "      --disabled-bg-color: #DDD;\n",
              "  }\n",
              "\n",
              "  [theme=dark] .colab-df-quickchart {\n",
              "      --bg-color: #3B4455;\n",
              "      --fill-color: #D2E3FC;\n",
              "      --hover-bg-color: #434B5C;\n",
              "      --hover-fill-color: #FFFFFF;\n",
              "      --disabled-bg-color: #3B4455;\n",
              "      --disabled-fill-color: #666;\n",
              "  }\n",
              "\n",
              "  .colab-df-quickchart {\n",
              "    background-color: var(--bg-color);\n",
              "    border: none;\n",
              "    border-radius: 50%;\n",
              "    cursor: pointer;\n",
              "    display: none;\n",
              "    fill: var(--fill-color);\n",
              "    height: 32px;\n",
              "    padding: 0;\n",
              "    width: 32px;\n",
              "  }\n",
              "\n",
              "  .colab-df-quickchart:hover {\n",
              "    background-color: var(--hover-bg-color);\n",
              "    box-shadow: 0 1px 2px rgba(60, 64, 67, 0.3), 0 1px 3px 1px rgba(60, 64, 67, 0.15);\n",
              "    fill: var(--button-hover-fill-color);\n",
              "  }\n",
              "\n",
              "  .colab-df-quickchart-complete:disabled,\n",
              "  .colab-df-quickchart-complete:disabled:hover {\n",
              "    background-color: var(--disabled-bg-color);\n",
              "    fill: var(--disabled-fill-color);\n",
              "    box-shadow: none;\n",
              "  }\n",
              "\n",
              "  .colab-df-spinner {\n",
              "    border: 2px solid var(--fill-color);\n",
              "    border-color: transparent;\n",
              "    border-bottom-color: var(--fill-color);\n",
              "    animation:\n",
              "      spin 1s steps(1) infinite;\n",
              "  }\n",
              "\n",
              "  @keyframes spin {\n",
              "    0% {\n",
              "      border-color: transparent;\n",
              "      border-bottom-color: var(--fill-color);\n",
              "      border-left-color: var(--fill-color);\n",
              "    }\n",
              "    20% {\n",
              "      border-color: transparent;\n",
              "      border-left-color: var(--fill-color);\n",
              "      border-top-color: var(--fill-color);\n",
              "    }\n",
              "    30% {\n",
              "      border-color: transparent;\n",
              "      border-left-color: var(--fill-color);\n",
              "      border-top-color: var(--fill-color);\n",
              "      border-right-color: var(--fill-color);\n",
              "    }\n",
              "    40% {\n",
              "      border-color: transparent;\n",
              "      border-right-color: var(--fill-color);\n",
              "      border-top-color: var(--fill-color);\n",
              "    }\n",
              "    60% {\n",
              "      border-color: transparent;\n",
              "      border-right-color: var(--fill-color);\n",
              "    }\n",
              "    80% {\n",
              "      border-color: transparent;\n",
              "      border-right-color: var(--fill-color);\n",
              "      border-bottom-color: var(--fill-color);\n",
              "    }\n",
              "    90% {\n",
              "      border-color: transparent;\n",
              "      border-bottom-color: var(--fill-color);\n",
              "    }\n",
              "  }\n",
              "</style>\n",
              "\n",
              "  <script>\n",
              "    async function quickchart(key) {\n",
              "      const quickchartButtonEl =\n",
              "        document.querySelector('#' + key + ' button');\n",
              "      quickchartButtonEl.disabled = true;  // To prevent multiple clicks.\n",
              "      quickchartButtonEl.classList.add('colab-df-spinner');\n",
              "      try {\n",
              "        const charts = await google.colab.kernel.invokeFunction(\n",
              "            'suggestCharts', [key], {});\n",
              "      } catch (error) {\n",
              "        console.error('Error during call to suggestCharts:', error);\n",
              "      }\n",
              "      quickchartButtonEl.classList.remove('colab-df-spinner');\n",
              "      quickchartButtonEl.classList.add('colab-df-quickchart-complete');\n",
              "    }\n",
              "    (() => {\n",
              "      let quickchartButtonEl =\n",
              "        document.querySelector('#df-082c1bdc-8c84-48a7-8d7a-8f840740679e button');\n",
              "      quickchartButtonEl.style.display =\n",
              "        google.colab.kernel.accessAllowed ? 'block' : 'none';\n",
              "    })();\n",
              "  </script>\n",
              "</div>\n",
              "\n",
              "    </div>\n",
              "  </div>\n"
            ],
            "application/vnd.google.colaboratory.intrinsic+json": {
              "type": "dataframe",
              "variable_name": "df",
              "summary": "{\n  \"name\": \"df\",\n  \"rows\": 41817,\n  \"fields\": [\n    {\n      \"column\": \"DESCRIPTION\",\n      \"properties\": {\n        \"dtype\": \"string\",\n        \"num_unique_values\": 41817,\n        \"samples\": [\n          \"HUG Mini Choux pur beurre 4cm\",\n          \"K&S Schoggi- Roulade\",\n          \"Natura Bio Pizzasauce, 4,1 kg\"\n        ],\n        \"semantic_type\": \"\",\n        \"description\": \"\"\n      }\n    },\n    {\n      \"column\": \"Herstellung\",\n      \"properties\": {\n        \"dtype\": \"category\",\n        \"num_unique_values\": 358,\n        \"samples\": [\n          \"D\\u00f6rrdatteln\",\n          \"NONFOOD\",\n          \"Zucchetti ungeheizt EU\"\n        ],\n        \"semantic_type\": \"\",\n        \"description\": \"\"\n      }\n    }\n  ]\n}"
            }
          },
          "metadata": {},
          "execution_count": 4
        }
      ]
    },
    {
      "cell_type": "code",
      "source": [
        "df.describe()"
      ],
      "metadata": {
        "colab": {
          "base_uri": "https://localhost:8080/",
          "height": 175
        },
        "id": "wrlLQUhnmCJ7",
        "outputId": "37506a2c-941f-49bc-a779-8592dba7a1c4"
      },
      "execution_count": 5,
      "outputs": [
        {
          "output_type": "execute_result",
          "data": {
            "text/plain": [
              "                    DESCRIPTION Herstellung\n",
              "count                     41817       41817\n",
              "unique                    41817         358\n",
              "top     .Smoothfood Brot 48x70g     NONFOOD\n",
              "freq                          1        1937"
            ],
            "text/html": [
              "\n",
              "  <div id=\"df-f2d10a66-6b25-4173-bb73-70791f363b21\" class=\"colab-df-container\">\n",
              "    <div>\n",
              "<style scoped>\n",
              "    .dataframe tbody tr th:only-of-type {\n",
              "        vertical-align: middle;\n",
              "    }\n",
              "\n",
              "    .dataframe tbody tr th {\n",
              "        vertical-align: top;\n",
              "    }\n",
              "\n",
              "    .dataframe thead th {\n",
              "        text-align: right;\n",
              "    }\n",
              "</style>\n",
              "<table border=\"1\" class=\"dataframe\">\n",
              "  <thead>\n",
              "    <tr style=\"text-align: right;\">\n",
              "      <th></th>\n",
              "      <th>DESCRIPTION</th>\n",
              "      <th>Herstellung</th>\n",
              "    </tr>\n",
              "  </thead>\n",
              "  <tbody>\n",
              "    <tr>\n",
              "      <th>count</th>\n",
              "      <td>41817</td>\n",
              "      <td>41817</td>\n",
              "    </tr>\n",
              "    <tr>\n",
              "      <th>unique</th>\n",
              "      <td>41817</td>\n",
              "      <td>358</td>\n",
              "    </tr>\n",
              "    <tr>\n",
              "      <th>top</th>\n",
              "      <td>.Smoothfood Brot 48x70g</td>\n",
              "      <td>NONFOOD</td>\n",
              "    </tr>\n",
              "    <tr>\n",
              "      <th>freq</th>\n",
              "      <td>1</td>\n",
              "      <td>1937</td>\n",
              "    </tr>\n",
              "  </tbody>\n",
              "</table>\n",
              "</div>\n",
              "    <div class=\"colab-df-buttons\">\n",
              "\n",
              "  <div class=\"colab-df-container\">\n",
              "    <button class=\"colab-df-convert\" onclick=\"convertToInteractive('df-f2d10a66-6b25-4173-bb73-70791f363b21')\"\n",
              "            title=\"Convert this dataframe to an interactive table.\"\n",
              "            style=\"display:none;\">\n",
              "\n",
              "  <svg xmlns=\"http://www.w3.org/2000/svg\" height=\"24px\" viewBox=\"0 -960 960 960\">\n",
              "    <path d=\"M120-120v-720h720v720H120Zm60-500h600v-160H180v160Zm220 220h160v-160H400v160Zm0 220h160v-160H400v160ZM180-400h160v-160H180v160Zm440 0h160v-160H620v160ZM180-180h160v-160H180v160Zm440 0h160v-160H620v160Z\"/>\n",
              "  </svg>\n",
              "    </button>\n",
              "\n",
              "  <style>\n",
              "    .colab-df-container {\n",
              "      display:flex;\n",
              "      gap: 12px;\n",
              "    }\n",
              "\n",
              "    .colab-df-convert {\n",
              "      background-color: #E8F0FE;\n",
              "      border: none;\n",
              "      border-radius: 50%;\n",
              "      cursor: pointer;\n",
              "      display: none;\n",
              "      fill: #1967D2;\n",
              "      height: 32px;\n",
              "      padding: 0 0 0 0;\n",
              "      width: 32px;\n",
              "    }\n",
              "\n",
              "    .colab-df-convert:hover {\n",
              "      background-color: #E2EBFA;\n",
              "      box-shadow: 0px 1px 2px rgba(60, 64, 67, 0.3), 0px 1px 3px 1px rgba(60, 64, 67, 0.15);\n",
              "      fill: #174EA6;\n",
              "    }\n",
              "\n",
              "    .colab-df-buttons div {\n",
              "      margin-bottom: 4px;\n",
              "    }\n",
              "\n",
              "    [theme=dark] .colab-df-convert {\n",
              "      background-color: #3B4455;\n",
              "      fill: #D2E3FC;\n",
              "    }\n",
              "\n",
              "    [theme=dark] .colab-df-convert:hover {\n",
              "      background-color: #434B5C;\n",
              "      box-shadow: 0px 1px 3px 1px rgba(0, 0, 0, 0.15);\n",
              "      filter: drop-shadow(0px 1px 2px rgba(0, 0, 0, 0.3));\n",
              "      fill: #FFFFFF;\n",
              "    }\n",
              "  </style>\n",
              "\n",
              "    <script>\n",
              "      const buttonEl =\n",
              "        document.querySelector('#df-f2d10a66-6b25-4173-bb73-70791f363b21 button.colab-df-convert');\n",
              "      buttonEl.style.display =\n",
              "        google.colab.kernel.accessAllowed ? 'block' : 'none';\n",
              "\n",
              "      async function convertToInteractive(key) {\n",
              "        const element = document.querySelector('#df-f2d10a66-6b25-4173-bb73-70791f363b21');\n",
              "        const dataTable =\n",
              "          await google.colab.kernel.invokeFunction('convertToInteractive',\n",
              "                                                    [key], {});\n",
              "        if (!dataTable) return;\n",
              "\n",
              "        const docLinkHtml = 'Like what you see? Visit the ' +\n",
              "          '<a target=\"_blank\" href=https://colab.research.google.com/notebooks/data_table.ipynb>data table notebook</a>'\n",
              "          + ' to learn more about interactive tables.';\n",
              "        element.innerHTML = '';\n",
              "        dataTable['output_type'] = 'display_data';\n",
              "        await google.colab.output.renderOutput(dataTable, element);\n",
              "        const docLink = document.createElement('div');\n",
              "        docLink.innerHTML = docLinkHtml;\n",
              "        element.appendChild(docLink);\n",
              "      }\n",
              "    </script>\n",
              "  </div>\n",
              "\n",
              "\n",
              "<div id=\"df-a9e820ec-1de3-4198-8c5f-9cf744da3af8\">\n",
              "  <button class=\"colab-df-quickchart\" onclick=\"quickchart('df-a9e820ec-1de3-4198-8c5f-9cf744da3af8')\"\n",
              "            title=\"Suggest charts\"\n",
              "            style=\"display:none;\">\n",
              "\n",
              "<svg xmlns=\"http://www.w3.org/2000/svg\" height=\"24px\"viewBox=\"0 0 24 24\"\n",
              "     width=\"24px\">\n",
              "    <g>\n",
              "        <path d=\"M19 3H5c-1.1 0-2 .9-2 2v14c0 1.1.9 2 2 2h14c1.1 0 2-.9 2-2V5c0-1.1-.9-2-2-2zM9 17H7v-7h2v7zm4 0h-2V7h2v10zm4 0h-2v-4h2v4z\"/>\n",
              "    </g>\n",
              "</svg>\n",
              "  </button>\n",
              "\n",
              "<style>\n",
              "  .colab-df-quickchart {\n",
              "      --bg-color: #E8F0FE;\n",
              "      --fill-color: #1967D2;\n",
              "      --hover-bg-color: #E2EBFA;\n",
              "      --hover-fill-color: #174EA6;\n",
              "      --disabled-fill-color: #AAA;\n",
              "      --disabled-bg-color: #DDD;\n",
              "  }\n",
              "\n",
              "  [theme=dark] .colab-df-quickchart {\n",
              "      --bg-color: #3B4455;\n",
              "      --fill-color: #D2E3FC;\n",
              "      --hover-bg-color: #434B5C;\n",
              "      --hover-fill-color: #FFFFFF;\n",
              "      --disabled-bg-color: #3B4455;\n",
              "      --disabled-fill-color: #666;\n",
              "  }\n",
              "\n",
              "  .colab-df-quickchart {\n",
              "    background-color: var(--bg-color);\n",
              "    border: none;\n",
              "    border-radius: 50%;\n",
              "    cursor: pointer;\n",
              "    display: none;\n",
              "    fill: var(--fill-color);\n",
              "    height: 32px;\n",
              "    padding: 0;\n",
              "    width: 32px;\n",
              "  }\n",
              "\n",
              "  .colab-df-quickchart:hover {\n",
              "    background-color: var(--hover-bg-color);\n",
              "    box-shadow: 0 1px 2px rgba(60, 64, 67, 0.3), 0 1px 3px 1px rgba(60, 64, 67, 0.15);\n",
              "    fill: var(--button-hover-fill-color);\n",
              "  }\n",
              "\n",
              "  .colab-df-quickchart-complete:disabled,\n",
              "  .colab-df-quickchart-complete:disabled:hover {\n",
              "    background-color: var(--disabled-bg-color);\n",
              "    fill: var(--disabled-fill-color);\n",
              "    box-shadow: none;\n",
              "  }\n",
              "\n",
              "  .colab-df-spinner {\n",
              "    border: 2px solid var(--fill-color);\n",
              "    border-color: transparent;\n",
              "    border-bottom-color: var(--fill-color);\n",
              "    animation:\n",
              "      spin 1s steps(1) infinite;\n",
              "  }\n",
              "\n",
              "  @keyframes spin {\n",
              "    0% {\n",
              "      border-color: transparent;\n",
              "      border-bottom-color: var(--fill-color);\n",
              "      border-left-color: var(--fill-color);\n",
              "    }\n",
              "    20% {\n",
              "      border-color: transparent;\n",
              "      border-left-color: var(--fill-color);\n",
              "      border-top-color: var(--fill-color);\n",
              "    }\n",
              "    30% {\n",
              "      border-color: transparent;\n",
              "      border-left-color: var(--fill-color);\n",
              "      border-top-color: var(--fill-color);\n",
              "      border-right-color: var(--fill-color);\n",
              "    }\n",
              "    40% {\n",
              "      border-color: transparent;\n",
              "      border-right-color: var(--fill-color);\n",
              "      border-top-color: var(--fill-color);\n",
              "    }\n",
              "    60% {\n",
              "      border-color: transparent;\n",
              "      border-right-color: var(--fill-color);\n",
              "    }\n",
              "    80% {\n",
              "      border-color: transparent;\n",
              "      border-right-color: var(--fill-color);\n",
              "      border-bottom-color: var(--fill-color);\n",
              "    }\n",
              "    90% {\n",
              "      border-color: transparent;\n",
              "      border-bottom-color: var(--fill-color);\n",
              "    }\n",
              "  }\n",
              "</style>\n",
              "\n",
              "  <script>\n",
              "    async function quickchart(key) {\n",
              "      const quickchartButtonEl =\n",
              "        document.querySelector('#' + key + ' button');\n",
              "      quickchartButtonEl.disabled = true;  // To prevent multiple clicks.\n",
              "      quickchartButtonEl.classList.add('colab-df-spinner');\n",
              "      try {\n",
              "        const charts = await google.colab.kernel.invokeFunction(\n",
              "            'suggestCharts', [key], {});\n",
              "      } catch (error) {\n",
              "        console.error('Error during call to suggestCharts:', error);\n",
              "      }\n",
              "      quickchartButtonEl.classList.remove('colab-df-spinner');\n",
              "      quickchartButtonEl.classList.add('colab-df-quickchart-complete');\n",
              "    }\n",
              "    (() => {\n",
              "      let quickchartButtonEl =\n",
              "        document.querySelector('#df-a9e820ec-1de3-4198-8c5f-9cf744da3af8 button');\n",
              "      quickchartButtonEl.style.display =\n",
              "        google.colab.kernel.accessAllowed ? 'block' : 'none';\n",
              "    })();\n",
              "  </script>\n",
              "</div>\n",
              "\n",
              "    </div>\n",
              "  </div>\n"
            ],
            "application/vnd.google.colaboratory.intrinsic+json": {
              "type": "dataframe",
              "summary": "{\n  \"name\": \"df\",\n  \"rows\": 4,\n  \"fields\": [\n    {\n      \"column\": \"DESCRIPTION\",\n      \"properties\": {\n        \"dtype\": \"string\",\n        \"num_unique_values\": 3,\n        \"samples\": [\n          \"41817\",\n          \".Smoothfood Brot 48x70g\",\n          \"1\"\n        ],\n        \"semantic_type\": \"\",\n        \"description\": \"\"\n      }\n    },\n    {\n      \"column\": \"Herstellung\",\n      \"properties\": {\n        \"dtype\": \"string\",\n        \"num_unique_values\": 4,\n        \"samples\": [\n          358,\n          \"1937\",\n          \"41817\"\n        ],\n        \"semantic_type\": \"\",\n        \"description\": \"\"\n      }\n    }\n  ]\n}"
            }
          },
          "metadata": {},
          "execution_count": 5
        }
      ]
    },
    {
      "cell_type": "code",
      "source": [
        "value_counts=df.Herstellung.value_counts()\n",
        "to_keep = value_counts[value_counts >=5].index\n",
        "df = df[df['Herstellung'].isin(to_keep)]"
      ],
      "metadata": {
        "id": "pxF_2s4wfjdx"
      },
      "execution_count": 7,
      "outputs": []
    },
    {
      "cell_type": "code",
      "source": [
        "# Filter the DataFrame to separate rows with the specific label and other rows\n",
        "df_label = df[df['Herstellung'] == 'NONFOOD']\n",
        "df_other = df[df['Herstellung'] != 'NONFOOD']\n",
        "\n",
        "# Randomly sample the specified number of elements from the label's DataFrame\n",
        "sampled_df_label = df_label.sample(n=1500, random_state=42)\n",
        "\n",
        "# Combine the sampled elements with the rest of the DataFrame\n",
        "df_balanced = pd.concat([sampled_df_label, df_other])\n",
        "\n",
        "# Optional: Shuffle the final DataFrame\n",
        "df = df_balanced.sample(frac=1, random_state=42).reset_index(drop=True)"
      ],
      "metadata": {
        "id": "wjPPKnFwZiHY"
      },
      "execution_count": 8,
      "outputs": []
    },
    {
      "cell_type": "code",
      "source": [
        "import nltk\n",
        "from sklearn.feature_extraction.text import TfidfVectorizer\n",
        "\n",
        "# Download the stopwords if you haven't done so\n",
        "nltk.download('stopwords')\n",
        "from nltk.corpus import stopwords\n",
        "import re\n",
        "\n",
        "# Get the German stop words\n",
        "stop_words = stopwords.words('german')"
      ],
      "metadata": {
        "colab": {
          "base_uri": "https://localhost:8080/"
        },
        "id": "WGoy4jeontYi",
        "outputId": "50937ef7-94fb-4791-f2b2-9fa83aaee8a9"
      },
      "execution_count": 9,
      "outputs": [
        {
          "output_type": "stream",
          "name": "stderr",
          "text": [
            "[nltk_data] Downloading package stopwords to /root/nltk_data...\n",
            "[nltk_data]   Unzipping corpora/stopwords.zip.\n"
          ]
        }
      ]
    },
    {
      "cell_type": "code",
      "source": [
        "nltk.download('punkt')"
      ],
      "metadata": {
        "colab": {
          "base_uri": "https://localhost:8080/"
        },
        "id": "K8Cb40ypnxUw",
        "outputId": "9e6f6cc6-bb4d-4063-c53d-f38d72b5dabc"
      },
      "execution_count": 10,
      "outputs": [
        {
          "output_type": "stream",
          "name": "stderr",
          "text": [
            "[nltk_data] Downloading package punkt to /root/nltk_data...\n",
            "[nltk_data]   Unzipping tokenizers/punkt.zip.\n"
          ]
        },
        {
          "output_type": "execute_result",
          "data": {
            "text/plain": [
              "True"
            ]
          },
          "metadata": {},
          "execution_count": 10
        }
      ]
    },
    {
      "cell_type": "code",
      "source": [
        "nltk.download('punkt_tab')"
      ],
      "metadata": {
        "colab": {
          "base_uri": "https://localhost:8080/"
        },
        "id": "leN8dEy49bAh",
        "outputId": "4db6aa6f-1ab6-49a2-ee33-bdb65f7d5f6d"
      },
      "execution_count": 11,
      "outputs": [
        {
          "output_type": "stream",
          "name": "stderr",
          "text": [
            "[nltk_data] Downloading package punkt_tab to /root/nltk_data...\n",
            "[nltk_data]   Unzipping tokenizers/punkt_tab.zip.\n"
          ]
        },
        {
          "output_type": "execute_result",
          "data": {
            "text/plain": [
              "True"
            ]
          },
          "metadata": {},
          "execution_count": 11
        }
      ]
    },
    {
      "cell_type": "code",
      "source": [
        "import re\n",
        "import string\n",
        "from nltk.tokenize import word_tokenize\n",
        "from nltk.corpus import stopwords\n",
        "from nltk.stem import PorterStemmer\n",
        "\n",
        "def clean_text(text):\n",
        "    # Lowercasing\n",
        "    text = text.lower()\n",
        "    # Removing punctuation\n",
        "    text = text.translate(str.maketrans('', '', string.punctuation))\n",
        "    # Tokenization\n",
        "    tokens = word_tokenize(text)\n",
        "    # Removing stop words\n",
        "    tokens = [word for word in tokens if word not in stop_words]\n",
        "    # Stemming\n",
        "    stemmer = PorterStemmer()\n",
        "    tokens = [stemmer.stem(word) for word in tokens]\n",
        "    # Removing numbers\n",
        "    #tokens = [word for word in tokens if not word.isdigit()]\n",
        "    # Removing extra whitespaces\n",
        "    text = ' '.join(tokens)\n",
        "    return text\n",
        "df['DESCRIPTION']= df['DESCRIPTION'].apply(clean_text)\n",
        "#df['Herstellung']=df['Herstellung'].apply(clean_text)\n",
        "df['Herstellung']=df['Herstellung'].str.strip().str.lower()"
      ],
      "metadata": {
        "id": "PPREhKB6oxqh"
      },
      "execution_count": 12,
      "outputs": []
    },
    {
      "cell_type": "code",
      "source": [
        "df.head()"
      ],
      "metadata": {
        "colab": {
          "base_uri": "https://localhost:8080/",
          "height": 206
        },
        "id": "mm-ejDI4n3E-",
        "outputId": "1efc4925-a361-4611-f0bd-62b2dfef1e39"
      },
      "execution_count": 13,
      "outputs": [
        {
          "output_type": "execute_result",
          "data": {
            "text/plain": [
              "                                  DESCRIPTION                  Herstellung\n",
              "0  poulet nugget paniert fritiert tk ca 18 kg  poulet, kat. 1, paniert, ch\n",
              "1           wachtel eier freiämter 8er schale                         eier\n",
              "2                     lunkow glasnudeln 100 g        glutenfreie teigwaren\n",
              "3           frisco imperi sorbet himbeer 38 l                       sorbet\n",
              "4                       wiberg zimt ganz 420g             kräuter, diverse"
            ],
            "text/html": [
              "\n",
              "  <div id=\"df-43c147d6-9ae8-4fbe-bd2a-a4d280a038d9\" class=\"colab-df-container\">\n",
              "    <div>\n",
              "<style scoped>\n",
              "    .dataframe tbody tr th:only-of-type {\n",
              "        vertical-align: middle;\n",
              "    }\n",
              "\n",
              "    .dataframe tbody tr th {\n",
              "        vertical-align: top;\n",
              "    }\n",
              "\n",
              "    .dataframe thead th {\n",
              "        text-align: right;\n",
              "    }\n",
              "</style>\n",
              "<table border=\"1\" class=\"dataframe\">\n",
              "  <thead>\n",
              "    <tr style=\"text-align: right;\">\n",
              "      <th></th>\n",
              "      <th>DESCRIPTION</th>\n",
              "      <th>Herstellung</th>\n",
              "    </tr>\n",
              "  </thead>\n",
              "  <tbody>\n",
              "    <tr>\n",
              "      <th>0</th>\n",
              "      <td>poulet nugget paniert fritiert tk ca 18 kg</td>\n",
              "      <td>poulet, kat. 1, paniert, ch</td>\n",
              "    </tr>\n",
              "    <tr>\n",
              "      <th>1</th>\n",
              "      <td>wachtel eier freiämter 8er schale</td>\n",
              "      <td>eier</td>\n",
              "    </tr>\n",
              "    <tr>\n",
              "      <th>2</th>\n",
              "      <td>lunkow glasnudeln 100 g</td>\n",
              "      <td>glutenfreie teigwaren</td>\n",
              "    </tr>\n",
              "    <tr>\n",
              "      <th>3</th>\n",
              "      <td>frisco imperi sorbet himbeer 38 l</td>\n",
              "      <td>sorbet</td>\n",
              "    </tr>\n",
              "    <tr>\n",
              "      <th>4</th>\n",
              "      <td>wiberg zimt ganz 420g</td>\n",
              "      <td>kräuter, diverse</td>\n",
              "    </tr>\n",
              "  </tbody>\n",
              "</table>\n",
              "</div>\n",
              "    <div class=\"colab-df-buttons\">\n",
              "\n",
              "  <div class=\"colab-df-container\">\n",
              "    <button class=\"colab-df-convert\" onclick=\"convertToInteractive('df-43c147d6-9ae8-4fbe-bd2a-a4d280a038d9')\"\n",
              "            title=\"Convert this dataframe to an interactive table.\"\n",
              "            style=\"display:none;\">\n",
              "\n",
              "  <svg xmlns=\"http://www.w3.org/2000/svg\" height=\"24px\" viewBox=\"0 -960 960 960\">\n",
              "    <path d=\"M120-120v-720h720v720H120Zm60-500h600v-160H180v160Zm220 220h160v-160H400v160Zm0 220h160v-160H400v160ZM180-400h160v-160H180v160Zm440 0h160v-160H620v160ZM180-180h160v-160H180v160Zm440 0h160v-160H620v160Z\"/>\n",
              "  </svg>\n",
              "    </button>\n",
              "\n",
              "  <style>\n",
              "    .colab-df-container {\n",
              "      display:flex;\n",
              "      gap: 12px;\n",
              "    }\n",
              "\n",
              "    .colab-df-convert {\n",
              "      background-color: #E8F0FE;\n",
              "      border: none;\n",
              "      border-radius: 50%;\n",
              "      cursor: pointer;\n",
              "      display: none;\n",
              "      fill: #1967D2;\n",
              "      height: 32px;\n",
              "      padding: 0 0 0 0;\n",
              "      width: 32px;\n",
              "    }\n",
              "\n",
              "    .colab-df-convert:hover {\n",
              "      background-color: #E2EBFA;\n",
              "      box-shadow: 0px 1px 2px rgba(60, 64, 67, 0.3), 0px 1px 3px 1px rgba(60, 64, 67, 0.15);\n",
              "      fill: #174EA6;\n",
              "    }\n",
              "\n",
              "    .colab-df-buttons div {\n",
              "      margin-bottom: 4px;\n",
              "    }\n",
              "\n",
              "    [theme=dark] .colab-df-convert {\n",
              "      background-color: #3B4455;\n",
              "      fill: #D2E3FC;\n",
              "    }\n",
              "\n",
              "    [theme=dark] .colab-df-convert:hover {\n",
              "      background-color: #434B5C;\n",
              "      box-shadow: 0px 1px 3px 1px rgba(0, 0, 0, 0.15);\n",
              "      filter: drop-shadow(0px 1px 2px rgba(0, 0, 0, 0.3));\n",
              "      fill: #FFFFFF;\n",
              "    }\n",
              "  </style>\n",
              "\n",
              "    <script>\n",
              "      const buttonEl =\n",
              "        document.querySelector('#df-43c147d6-9ae8-4fbe-bd2a-a4d280a038d9 button.colab-df-convert');\n",
              "      buttonEl.style.display =\n",
              "        google.colab.kernel.accessAllowed ? 'block' : 'none';\n",
              "\n",
              "      async function convertToInteractive(key) {\n",
              "        const element = document.querySelector('#df-43c147d6-9ae8-4fbe-bd2a-a4d280a038d9');\n",
              "        const dataTable =\n",
              "          await google.colab.kernel.invokeFunction('convertToInteractive',\n",
              "                                                    [key], {});\n",
              "        if (!dataTable) return;\n",
              "\n",
              "        const docLinkHtml = 'Like what you see? Visit the ' +\n",
              "          '<a target=\"_blank\" href=https://colab.research.google.com/notebooks/data_table.ipynb>data table notebook</a>'\n",
              "          + ' to learn more about interactive tables.';\n",
              "        element.innerHTML = '';\n",
              "        dataTable['output_type'] = 'display_data';\n",
              "        await google.colab.output.renderOutput(dataTable, element);\n",
              "        const docLink = document.createElement('div');\n",
              "        docLink.innerHTML = docLinkHtml;\n",
              "        element.appendChild(docLink);\n",
              "      }\n",
              "    </script>\n",
              "  </div>\n",
              "\n",
              "\n",
              "<div id=\"df-347d24b9-6caf-4e37-82f0-b5736ef39bb2\">\n",
              "  <button class=\"colab-df-quickchart\" onclick=\"quickchart('df-347d24b9-6caf-4e37-82f0-b5736ef39bb2')\"\n",
              "            title=\"Suggest charts\"\n",
              "            style=\"display:none;\">\n",
              "\n",
              "<svg xmlns=\"http://www.w3.org/2000/svg\" height=\"24px\"viewBox=\"0 0 24 24\"\n",
              "     width=\"24px\">\n",
              "    <g>\n",
              "        <path d=\"M19 3H5c-1.1 0-2 .9-2 2v14c0 1.1.9 2 2 2h14c1.1 0 2-.9 2-2V5c0-1.1-.9-2-2-2zM9 17H7v-7h2v7zm4 0h-2V7h2v10zm4 0h-2v-4h2v4z\"/>\n",
              "    </g>\n",
              "</svg>\n",
              "  </button>\n",
              "\n",
              "<style>\n",
              "  .colab-df-quickchart {\n",
              "      --bg-color: #E8F0FE;\n",
              "      --fill-color: #1967D2;\n",
              "      --hover-bg-color: #E2EBFA;\n",
              "      --hover-fill-color: #174EA6;\n",
              "      --disabled-fill-color: #AAA;\n",
              "      --disabled-bg-color: #DDD;\n",
              "  }\n",
              "\n",
              "  [theme=dark] .colab-df-quickchart {\n",
              "      --bg-color: #3B4455;\n",
              "      --fill-color: #D2E3FC;\n",
              "      --hover-bg-color: #434B5C;\n",
              "      --hover-fill-color: #FFFFFF;\n",
              "      --disabled-bg-color: #3B4455;\n",
              "      --disabled-fill-color: #666;\n",
              "  }\n",
              "\n",
              "  .colab-df-quickchart {\n",
              "    background-color: var(--bg-color);\n",
              "    border: none;\n",
              "    border-radius: 50%;\n",
              "    cursor: pointer;\n",
              "    display: none;\n",
              "    fill: var(--fill-color);\n",
              "    height: 32px;\n",
              "    padding: 0;\n",
              "    width: 32px;\n",
              "  }\n",
              "\n",
              "  .colab-df-quickchart:hover {\n",
              "    background-color: var(--hover-bg-color);\n",
              "    box-shadow: 0 1px 2px rgba(60, 64, 67, 0.3), 0 1px 3px 1px rgba(60, 64, 67, 0.15);\n",
              "    fill: var(--button-hover-fill-color);\n",
              "  }\n",
              "\n",
              "  .colab-df-quickchart-complete:disabled,\n",
              "  .colab-df-quickchart-complete:disabled:hover {\n",
              "    background-color: var(--disabled-bg-color);\n",
              "    fill: var(--disabled-fill-color);\n",
              "    box-shadow: none;\n",
              "  }\n",
              "\n",
              "  .colab-df-spinner {\n",
              "    border: 2px solid var(--fill-color);\n",
              "    border-color: transparent;\n",
              "    border-bottom-color: var(--fill-color);\n",
              "    animation:\n",
              "      spin 1s steps(1) infinite;\n",
              "  }\n",
              "\n",
              "  @keyframes spin {\n",
              "    0% {\n",
              "      border-color: transparent;\n",
              "      border-bottom-color: var(--fill-color);\n",
              "      border-left-color: var(--fill-color);\n",
              "    }\n",
              "    20% {\n",
              "      border-color: transparent;\n",
              "      border-left-color: var(--fill-color);\n",
              "      border-top-color: var(--fill-color);\n",
              "    }\n",
              "    30% {\n",
              "      border-color: transparent;\n",
              "      border-left-color: var(--fill-color);\n",
              "      border-top-color: var(--fill-color);\n",
              "      border-right-color: var(--fill-color);\n",
              "    }\n",
              "    40% {\n",
              "      border-color: transparent;\n",
              "      border-right-color: var(--fill-color);\n",
              "      border-top-color: var(--fill-color);\n",
              "    }\n",
              "    60% {\n",
              "      border-color: transparent;\n",
              "      border-right-color: var(--fill-color);\n",
              "    }\n",
              "    80% {\n",
              "      border-color: transparent;\n",
              "      border-right-color: var(--fill-color);\n",
              "      border-bottom-color: var(--fill-color);\n",
              "    }\n",
              "    90% {\n",
              "      border-color: transparent;\n",
              "      border-bottom-color: var(--fill-color);\n",
              "    }\n",
              "  }\n",
              "</style>\n",
              "\n",
              "  <script>\n",
              "    async function quickchart(key) {\n",
              "      const quickchartButtonEl =\n",
              "        document.querySelector('#' + key + ' button');\n",
              "      quickchartButtonEl.disabled = true;  // To prevent multiple clicks.\n",
              "      quickchartButtonEl.classList.add('colab-df-spinner');\n",
              "      try {\n",
              "        const charts = await google.colab.kernel.invokeFunction(\n",
              "            'suggestCharts', [key], {});\n",
              "      } catch (error) {\n",
              "        console.error('Error during call to suggestCharts:', error);\n",
              "      }\n",
              "      quickchartButtonEl.classList.remove('colab-df-spinner');\n",
              "      quickchartButtonEl.classList.add('colab-df-quickchart-complete');\n",
              "    }\n",
              "    (() => {\n",
              "      let quickchartButtonEl =\n",
              "        document.querySelector('#df-347d24b9-6caf-4e37-82f0-b5736ef39bb2 button');\n",
              "      quickchartButtonEl.style.display =\n",
              "        google.colab.kernel.accessAllowed ? 'block' : 'none';\n",
              "    })();\n",
              "  </script>\n",
              "</div>\n",
              "\n",
              "    </div>\n",
              "  </div>\n"
            ],
            "application/vnd.google.colaboratory.intrinsic+json": {
              "type": "dataframe",
              "variable_name": "df",
              "summary": "{\n  \"name\": \"df\",\n  \"rows\": 41295,\n  \"fields\": [\n    {\n      \"column\": \"DESCRIPTION\",\n      \"properties\": {\n        \"dtype\": \"string\",\n        \"num_unique_values\": 40675,\n        \"samples\": [\n          \"cumberland sauc majest 230 g\",\n          \"knoblauch ros\\u00e9 korb frankreich\",\n          \"nektarinen saturn ca 5kg flach nektarinen\"\n        ],\n        \"semantic_type\": \"\",\n        \"description\": \"\"\n      }\n    },\n    {\n      \"column\": \"Herstellung\",\n      \"properties\": {\n        \"dtype\": \"category\",\n        \"num_unique_values\": 314,\n        \"samples\": [\n          \"rindfleisch, kat. 3, ch\",\n          \"schweinefleisch, kat. 3, ch\",\n          \"vegane milch\"\n        ],\n        \"semantic_type\": \"\",\n        \"description\": \"\"\n      }\n    }\n  ]\n}"
            }
          },
          "metadata": {},
          "execution_count": 13
        }
      ]
    },
    {
      "source": [
        "# @title Top 20 Most Frequent Herstellung Categories\n",
        "\n",
        "import matplotlib.pyplot as plt\n",
        "import pandas as pd\n",
        "\n",
        "df['Herstellung'].value_counts().head(20).sort_values().plot(kind='barh')\n",
        "plt.title('Top 20 Most Frequent Herstellung Categories')\n",
        "plt.xlabel('Count')\n",
        "_ = plt.ylabel('Herstellung Category')"
      ],
      "cell_type": "code",
      "execution_count": 14,
      "outputs": [
        {
          "output_type": "display_data",
          "data": {
            "text/plain": [
              "<Figure size 640x480 with 1 Axes>"
            ],
            "image/png": "[encoded data removed]"
          },
          "metadata": {}
        }
      ],
      "metadata": {
        "colab": {
          "base_uri": "https://localhost:8080/",
          "height": 472
        },
        "id": "6AO_DqQOeQY2",
        "outputId": "cbd1045f-4c45-42ae-d4b6-3de488a3cbf0"
      }
    },
    {
      "cell_type": "code",
      "source": [
        "import seaborn as sns\n",
        "import matplotlib.pyplot as plt\n",
        "\n",
        "# Create a box plot for the counts of the 'Herstellung' column\n",
        "plt.figure(figsize=(10, 6))  # Adjust the figure size if necessary\n",
        "sns.boxplot(x=df['Herstellung'].value_counts())\n",
        "\n",
        "# Add title and labels\n",
        "plt.title('Box Plot of Herstellung Counts')\n",
        "plt.xlabel('Count')\n",
        "\n",
        "# Show the plot\n",
        "plt.show()"
      ],
      "metadata": {
        "colab": {
          "base_uri": "https://localhost:8080/",
          "height": 564
        },
        "id": "OcE9IQNL2D5v",
        "outputId": "d0d0fc18-ad9a-44a6-e1a9-d524791b62d8"
      },
      "execution_count": 15,
      "outputs": [
        {
          "output_type": "display_data",
          "data": {
            "text/plain": [
              "<Figure size 1000x600 with 1 Axes>"
            ],
            "image/png": "[encoded data removed]"
          },
          "metadata": {}
        }
      ]
    },
    {
      "cell_type": "code",
      "source": [
        "import matplotlib.pyplot as plt\n",
        "import pandas as pd\n",
        "\n",
        "df['Herstellung'].value_counts().tail().sort_values().plot(kind='barh')\n",
        "plt.title('Least Frequent Herstellung Categories')\n",
        "plt.xlabel('Count')\n",
        "_ = plt.ylabel('Herstellung Category')"
      ],
      "metadata": {
        "colab": {
          "base_uri": "https://localhost:8080/",
          "height": 472
        },
        "id": "cqAKK-HTefbZ",
        "outputId": "9e4cf0f2-1bc7-44e5-ca11-4c7cfb88749b"
      },
      "execution_count": 16,
      "outputs": [
        {
          "output_type": "display_data",
          "data": {
            "text/plain": [
              "<Figure size 640x480 with 1 Axes>"
            ],
            "image/png": "[encoded data removed]"
          },
          "metadata": {}
        }
      ]
    },
    {
      "cell_type": "code",
      "source": [
        "import tensorflow as tf\n",
        "from tensorflow.keras.preprocessing.text import Tokenizer\n",
        "from tensorflow.keras.preprocessing.sequence import pad_sequences\n",
        "from tensorflow.keras.layers import Embedding, LSTM, Dense, SimpleRNN\n",
        "from tensorflow.keras.models import Sequential"
      ],
      "metadata": {
        "id": "sqncQPckmtaB"
      },
      "execution_count": 17,
      "outputs": []
    },
    {
      "cell_type": "code",
      "source": [
        "# Hyperparameters\n",
        "max_words = 20000 # max number of words to use in the vocabulary\n",
        "max_len = 10 # max length of each text (in terms of number of words)\n",
        "embedding_dim = 50 # dimension of word embeddings\n",
        "#lstm_units = 64 # number of units in the LSTM layer\n",
        "#num_classes = len(set(labels)) # number of classes"
      ],
      "metadata": {
        "id": "m_QdTl2RpSXH"
      },
      "execution_count": 18,
      "outputs": []
    },
    {
      "cell_type": "code",
      "source": [
        "# Tokenize the texts and create a vocabulary\n",
        "tokenizer = Tokenizer(num_words=max_words)\n",
        "tokenizer.fit_on_texts(df.DESCRIPTION.values)\n",
        "X = tokenizer.texts_to_sequences(df.DESCRIPTION.values)"
      ],
      "metadata": {
        "id": "Qt8zF-HqpVNC"
      },
      "execution_count": 19,
      "outputs": []
    },
    {
      "cell_type": "code",
      "source": [
        "# Pad the sequences so they all have the same length\n",
        "X = pad_sequences(X, maxlen=max_len)"
      ],
      "metadata": {
        "id": "etJna69-pecQ"
      },
      "execution_count": 20,
      "outputs": []
    },
    {
      "cell_type": "code",
      "source": [
        "Y=pd.get_dummies(df.Herstellung).values"
      ],
      "metadata": {
        "id": "crIDZWP3l9U5"
      },
      "execution_count": 21,
      "outputs": []
    },
    {
      "cell_type": "code",
      "source": [
        "X_train, X_test, Y_train, Y_test = train_test_split(X,Y, stratify=Y, test_size = 0.20, random_state = 42)\n",
        "print(X_train.shape,Y_train.shape)\n",
        "print(X_test.shape,Y_test.shape)"
      ],
      "metadata": {
        "colab": {
          "base_uri": "https://localhost:8080/"
        },
        "id": "wvhoQKU_gIRR",
        "outputId": "e1a4e992-5eeb-4908-8307-ee6514ebb911"
      },
      "execution_count": 22,
      "outputs": [
        {
          "output_type": "stream",
          "name": "stdout",
          "text": [
            "(33036, 10) (33036, 314)\n",
            "(8259, 10) (8259, 314)\n"
          ]
        }
      ]
    },
    {
      "cell_type": "code",
      "source": [
        "labels= df.Herstellung.unique()"
      ],
      "metadata": {
        "id": "U3HDZxT4GYpU"
      },
      "execution_count": 23,
      "outputs": []
    },
    {
      "cell_type": "code",
      "source": [
        "# from imblearn.over_sampling import SMOTE\n",
        "# smote = SMOTE()\n",
        "# X_train_resampled, Y_train_resampled = smote.fit_resample(X_train, Y_train)"
      ],
      "metadata": {
        "id": "lA0N1bmTgrD9"
      },
      "execution_count": null,
      "outputs": []
    },
    {
      "cell_type": "code",
      "source": [
        "import os\n",
        "import random\n",
        "# Set random seeds for reproducibility\n",
        "seed = 42\n",
        "os.environ['PYTHONHASHSEED'] = str(seed)\n",
        "random.seed(seed)\n",
        "np.random.seed(seed)\n",
        "tf.random.set_seed(seed)\n"
      ],
      "metadata": {
        "id": "2H9DLN5xAYtG"
      },
      "execution_count": 24,
      "outputs": []
    },
    {
      "cell_type": "code",
      "source": [
        "from tensorflow.keras.layers import SpatialDropout1D, BatchNormalization\n",
        "from tensorflow.keras.regularizers import l2\n",
        "# Build the model\n",
        "model = Sequential()\n",
        "model.add(Embedding(max_words, embedding_dim, input_length=max_len))\n",
        "model.add(SpatialDropout1D(0.2))\n",
        "model.add(LSTM(100))\n",
        "model.add(Dense(314, activation='softmax'))\n",
        "model.compile(loss = 'categorical_crossentropy', optimizer = 'adam' , metrics = ['accuracy'])\n"
      ],
      "metadata": {
        "id": "cIr2GLYcpi66"
      },
      "execution_count": 51,
      "outputs": []
    },
    {
      "cell_type": "code",
      "source": [
        "model.summary()"
      ],
      "metadata": {
        "colab": {
          "base_uri": "https://localhost:8080/",
          "height": 273
        },
        "id": "E-rvQW1igmNs",
        "outputId": "d37f56d8-ee29-4584-c055-f0f17f230c29"
      },
      "execution_count": 52,
      "outputs": [
        {
          "output_type": "display_data",
          "data": {
            "text/plain": [
              "\u001b[1mModel: \"sequential_5\"\u001b[0m\n"
            ],
            "text/html": [
              "<pre style=\"white-space:pre;overflow-x:auto;line-height:normal;font-family:Menlo,'DejaVu Sans Mono',consolas,'Courier New',monospace\"><span style=\"font-weight: bold\">Model: \"sequential_5\"</span>\n",
              "</pre>\n"
            ]
          },
          "metadata": {}
        },
        {
          "output_type": "display_data",
          "data": {
            "text/plain": [
              "┏━━━━━━━━━━━━━━━━━━━━━━━━━━━━━━━━━━━━━━┳━━━━━━━━━━━━━━━━━━━━━━━━━━━━━┳━━━━━━━━━━━━━━━━━┓\n",
              "┃\u001b[1m \u001b[0m\u001b[1mLayer (type)                        \u001b[0m\u001b[1m \u001b[0m┃\u001b[1m \u001b[0m\u001b[1mOutput Shape               \u001b[0m\u001b[1m \u001b[0m┃\u001b[1m \u001b[0m\u001b[1m        Param #\u001b[0m\u001b[1m \u001b[0m┃\n",
              "┡━━━━━━━━━━━━━━━━━━━━━━━━━━━━━━━━━━━━━━╇━━━━━━━━━━━━━━━━━━━━━━━━━━━━━╇━━━━━━━━━━━━━━━━━┩\n",
              "│ embedding_5 (\u001b[38;5;33mEmbedding\u001b[0m)              │ ?                           │     \u001b[38;5;34m0\u001b[0m (unbuilt) │\n",
              "├──────────────────────────────────────┼─────────────────────────────┼─────────────────┤\n",
              "│ spatial_dropout1d_2                  │ ?                           │     \u001b[38;5;34m0\u001b[0m (unbuilt) │\n",
              "│ (\u001b[38;5;33mSpatialDropout1D\u001b[0m)                   │                             │                 │\n",
              "├──────────────────────────────────────┼─────────────────────────────┼─────────────────┤\n",
              "│ lstm_2 (\u001b[38;5;33mLSTM\u001b[0m)                        │ ?                           │     \u001b[38;5;34m0\u001b[0m (unbuilt) │\n",
              "├──────────────────────────────────────┼─────────────────────────────┼─────────────────┤\n",
              "│ dense_8 (\u001b[38;5;33mDense\u001b[0m)                      │ ?                           │     \u001b[38;5;34m0\u001b[0m (unbuilt) │\n",
              "└──────────────────────────────────────┴─────────────────────────────┴─────────────────┘\n"
            ],
            "text/html": [
              "<pre style=\"white-space:pre;overflow-x:auto;line-height:normal;font-family:Menlo,'DejaVu Sans Mono',consolas,'Courier New',monospace\">┏━━━━━━━━━━━━━━━━━━━━━━━━━━━━━━━━━━━━━━┳━━━━━━━━━━━━━━━━━━━━━━━━━━━━━┳━━━━━━━━━━━━━━━━━┓\n",
              "┃<span style=\"font-weight: bold\"> Layer (type)                         </span>┃<span style=\"font-weight: bold\"> Output Shape                </span>┃<span style=\"font-weight: bold\">         Param # </span>┃\n",
              "┡━━━━━━━━━━━━━━━━━━━━━━━━━━━━━━━━━━━━━━╇━━━━━━━━━━━━━━━━━━━━━━━━━━━━━╇━━━━━━━━━━━━━━━━━┩\n",
              "│ embedding_5 (<span style=\"color: #0087ff; text-decoration-color: #0087ff\">Embedding</span>)              │ ?                           │     <span style=\"color: #00af00; text-decoration-color: #00af00\">0</span> (unbuilt) │\n",
              "├──────────────────────────────────────┼─────────────────────────────┼─────────────────┤\n",
              "│ spatial_dropout1d_2                  │ ?                           │     <span style=\"color: #00af00; text-decoration-color: #00af00\">0</span> (unbuilt) │\n",
              "│ (<span style=\"color: #0087ff; text-decoration-color: #0087ff\">SpatialDropout1D</span>)                   │                             │                 │\n",
              "├──────────────────────────────────────┼─────────────────────────────┼─────────────────┤\n",
              "│ lstm_2 (<span style=\"color: #0087ff; text-decoration-color: #0087ff\">LSTM</span>)                        │ ?                           │     <span style=\"color: #00af00; text-decoration-color: #00af00\">0</span> (unbuilt) │\n",
              "├──────────────────────────────────────┼─────────────────────────────┼─────────────────┤\n",
              "│ dense_8 (<span style=\"color: #0087ff; text-decoration-color: #0087ff\">Dense</span>)                      │ ?                           │     <span style=\"color: #00af00; text-decoration-color: #00af00\">0</span> (unbuilt) │\n",
              "└──────────────────────────────────────┴─────────────────────────────┴─────────────────┘\n",
              "</pre>\n"
            ]
          },
          "metadata": {}
        },
        {
          "output_type": "display_data",
          "data": {
            "text/plain": [
              "\u001b[1m Total params: \u001b[0m\u001b[38;5;34m0\u001b[0m (0.00 B)\n"
            ],
            "text/html": [
              "<pre style=\"white-space:pre;overflow-x:auto;line-height:normal;font-family:Menlo,'DejaVu Sans Mono',consolas,'Courier New',monospace\"><span style=\"font-weight: bold\"> Total params: </span><span style=\"color: #00af00; text-decoration-color: #00af00\">0</span> (0.00 B)\n",
              "</pre>\n"
            ]
          },
          "metadata": {}
        },
        {
          "output_type": "display_data",
          "data": {
            "text/plain": [
              "\u001b[1m Trainable params: \u001b[0m\u001b[38;5;34m0\u001b[0m (0.00 B)\n"
            ],
            "text/html": [
              "<pre style=\"white-space:pre;overflow-x:auto;line-height:normal;font-family:Menlo,'DejaVu Sans Mono',consolas,'Courier New',monospace\"><span style=\"font-weight: bold\"> Trainable params: </span><span style=\"color: #00af00; text-decoration-color: #00af00\">0</span> (0.00 B)\n",
              "</pre>\n"
            ]
          },
          "metadata": {}
        },
        {
          "output_type": "display_data",
          "data": {
            "text/plain": [
              "\u001b[1m Non-trainable params: \u001b[0m\u001b[38;5;34m0\u001b[0m (0.00 B)\n"
            ],
            "text/html": [
              "<pre style=\"white-space:pre;overflow-x:auto;line-height:normal;font-family:Menlo,'DejaVu Sans Mono',consolas,'Courier New',monospace\"><span style=\"font-weight: bold\"> Non-trainable params: </span><span style=\"color: #00af00; text-decoration-color: #00af00\">0</span> (0.00 B)\n",
              "</pre>\n"
            ]
          },
          "metadata": {}
        }
      ]
    },
    {
      "cell_type": "code",
      "source": [
        "\n",
        "from sklearn.utils.class_weight import compute_class_weight\n",
        "\n",
        "Y_train_labels = np.argmax(Y_train, axis=1)\n",
        "\n",
        "class_weights = compute_class_weight(class_weight='balanced',\n",
        "                                     classes=np.unique(Y_train_labels),\n",
        "                                     y=Y_train_labels)\n",
        "\n",
        "# Create a dictionary for Keras\n",
        "class_weights_dict = {i : class_weights[i] for i in range(len(class_weights))}\n"
      ],
      "metadata": {
        "id": "M-Qx89e9tCzE"
      },
      "execution_count": 53,
      "outputs": []
    },
    {
      "cell_type": "code",
      "source": [
        "# from sklearn.utils.class_weight import compute_sample_weight\n",
        "\n",
        "# # Assume Y_train contains the labels for each sample in the training set\n",
        "# sample_weights = compute_sample_weight(class_weight='balanced', y=Y_train)"
      ],
      "metadata": {
        "id": "qTsUxxhEOHLl"
      },
      "execution_count": 33,
      "outputs": []
    },
    {
      "cell_type": "code",
      "source": [
        "from tensorflow.keras.callbacks import EarlyStopping\n",
        "epochs = 20\n",
        "batch_size = 128\n",
        "\n",
        "history = model.fit(X_train, Y_train, epochs=epochs, class_weight=class_weights_dict, validation_split=0.1,callbacks=[EarlyStopping(monitor='val_loss', patience=3, min_delta=0.0001)])\n"
      ],
      "metadata": {
        "colab": {
          "base_uri": "https://localhost:8080/"
        },
        "id": "qP4GgN9Zto2d",
        "outputId": "710696b6-1ab1-4d2c-ab97-bd2184449a74"
      },
      "execution_count": 54,
      "outputs": [
        {
          "output_type": "stream",
          "name": "stdout",
          "text": [
            "Epoch 1/20\n",
            "\u001b[1m930/930\u001b[0m \u001b[32m━━━━━━━━━━━━━━━━━━━━\u001b[0m\u001b[37m\u001b[0m \u001b[1m23s\u001b[0m 21ms/step - accuracy: 0.0354 - loss: 5.6560 - val_accuracy: 0.2258 - val_loss: 3.7430\n",
            "Epoch 2/20\n",
            "\u001b[1m930/930\u001b[0m \u001b[32m━━━━━━━━━━━━━━━━━━━━\u001b[0m\u001b[37m\u001b[0m \u001b[1m18s\u001b[0m 20ms/step - accuracy: 0.2889 - loss: 3.9691 - val_accuracy: 0.4649 - val_loss: 2.5639\n",
            "Epoch 3/20\n",
            "\u001b[1m930/930\u001b[0m \u001b[32m━━━━━━━━━━━━━━━━━━━━\u001b[0m\u001b[37m\u001b[0m \u001b[1m21s\u001b[0m 21ms/step - accuracy: 0.5246 - loss: 2.5583 - val_accuracy: 0.5823 - val_loss: 2.0363\n",
            "Epoch 4/20\n",
            "\u001b[1m930/930\u001b[0m \u001b[32m━━━━━━━━━━━━━━━━━━━━\u001b[0m\u001b[37m\u001b[0m \u001b[1m18s\u001b[0m 19ms/step - accuracy: 0.6606 - loss: 1.7151 - val_accuracy: 0.6353 - val_loss: 1.7696\n",
            "Epoch 5/20\n",
            "\u001b[1m930/930\u001b[0m \u001b[32m━━━━━━━━━━━━━━━━━━━━\u001b[0m\u001b[37m\u001b[0m \u001b[1m18s\u001b[0m 20ms/step - accuracy: 0.7354 - loss: 1.2172 - val_accuracy: 0.6683 - val_loss: 1.6523\n",
            "Epoch 6/20\n",
            "\u001b[1m930/930\u001b[0m \u001b[32m━━━━━━━━━━━━━━━━━━━━\u001b[0m\u001b[37m\u001b[0m \u001b[1m21s\u001b[0m 20ms/step - accuracy: 0.7904 - loss: 0.9010 - val_accuracy: 0.6807 - val_loss: 1.6179\n",
            "Epoch 7/20\n",
            "\u001b[1m930/930\u001b[0m \u001b[32m━━━━━━━━━━━━━━━━━━━━\u001b[0m\u001b[37m\u001b[0m \u001b[1m21s\u001b[0m 21ms/step - accuracy: 0.8228 - loss: 0.6871 - val_accuracy: 0.6955 - val_loss: 1.6069\n",
            "Epoch 8/20\n",
            "\u001b[1m930/930\u001b[0m \u001b[32m━━━━━━━━━━━━━━━━━━━━\u001b[0m\u001b[37m\u001b[0m \u001b[1m20s\u001b[0m 20ms/step - accuracy: 0.8437 - loss: 0.5486 - val_accuracy: 0.7061 - val_loss: 1.5667\n",
            "Epoch 9/20\n",
            "\u001b[1m930/930\u001b[0m \u001b[32m━━━━━━━━━━━━━━━━━━━━\u001b[0m\u001b[37m\u001b[0m \u001b[1m21s\u001b[0m 20ms/step - accuracy: 0.8639 - loss: 0.4439 - val_accuracy: 0.7200 - val_loss: 1.5571\n",
            "Epoch 10/20\n",
            "\u001b[1m930/930\u001b[0m \u001b[32m━━━━━━━━━━━━━━━━━━━━\u001b[0m\u001b[37m\u001b[0m \u001b[1m20s\u001b[0m 20ms/step - accuracy: 0.8789 - loss: 0.3904 - val_accuracy: 0.7237 - val_loss: 1.5652\n",
            "Epoch 11/20\n",
            "\u001b[1m930/930\u001b[0m \u001b[32m━━━━━━━━━━━━━━━━━━━━\u001b[0m\u001b[37m\u001b[0m \u001b[1m22s\u001b[0m 21ms/step - accuracy: 0.8903 - loss: 0.3294 - val_accuracy: 0.7240 - val_loss: 1.5848\n",
            "Epoch 12/20\n",
            "\u001b[1m930/930\u001b[0m \u001b[32m━━━━━━━━━━━━━━━━━━━━\u001b[0m\u001b[37m\u001b[0m \u001b[1m20s\u001b[0m 21ms/step - accuracy: 0.8964 - loss: 0.3014 - val_accuracy: 0.7324 - val_loss: 1.5840\n"
          ]
        }
      ]
    },
    {
      "cell_type": "code",
      "source": [
        "accr = model.evaluate(X_test,Y_test)\n",
        "print('Test set\\n  Loss: {:0.3f}\\n  Accuracy: {:0.3f}'.format(accr[0],accr[1]))"
      ],
      "metadata": {
        "colab": {
          "base_uri": "https://localhost:8080/"
        },
        "id": "p4xVJ6Vvm1AK",
        "outputId": "5cac2ddf-d31e-4a13-d3b9-a60afa19904e"
      },
      "execution_count": 55,
      "outputs": [
        {
          "output_type": "stream",
          "name": "stdout",
          "text": [
            "\u001b[1m259/259\u001b[0m \u001b[32m━━━━━━━━━━━━━━━━━━━━\u001b[0m\u001b[37m\u001b[0m \u001b[1m1s\u001b[0m 4ms/step - accuracy: 0.7159 - loss: 1.6074\n",
            "Test set\n",
            "  Loss: 1.593\n",
            "  Accuracy: 0.720\n"
          ]
        }
      ]
    },
    {
      "cell_type": "code",
      "source": [
        "import matplotlib.pyplot as plt\n",
        "plt.title('Loss')\n",
        "plt.plot(history.history['loss'], label='train')\n",
        "plt.plot(history.history['val_loss'], label='test')\n",
        "plt.legend()\n",
        "plt.show();"
      ],
      "metadata": {
        "colab": {
          "base_uri": "https://localhost:8080/",
          "height": 452
        },
        "id": "CXkEibzbm8A-",
        "outputId": "937f499d-b4a3-4e73-ea1d-3f3c9d1a0b34"
      },
      "execution_count": 56,
      "outputs": [
        {
          "output_type": "display_data",
          "data": {
            "text/plain": [
              "<Figure size 640x480 with 1 Axes>"
            ],
            "image/png": "[encoded data removed]"
          },
          "metadata": {}
        }
      ]
    },
    {
      "cell_type": "code",
      "source": [
        "plt.title('Accuracy')\n",
        "plt.plot(history.history['accuracy'], label='train')\n",
        "plt.plot(history.history['val_accuracy'], label='test')\n",
        "plt.legend()\n",
        "plt.show();"
      ],
      "metadata": {
        "colab": {
          "base_uri": "https://localhost:8080/",
          "height": 452
        },
        "id": "ja2LSx-EnFSh",
        "outputId": "6188f699-fcbb-4857-a1ad-095ca2004550"
      },
      "execution_count": 57,
      "outputs": [
        {
          "output_type": "display_data",
          "data": {
            "text/plain": [
              "<Figure size 640x480 with 1 Axes>"
            ],
            "image/png": "[encoded data removed]"
          },
          "metadata": {}
        }
      ]
    },
    {
      "cell_type": "code",
      "source": [
        "import sklearn.metrics as metrics\n",
        "from sklearn.metrics import classification_report\n",
        "y_pred_prob = model.predict(X_test)  # Outputs probabilities\n",
        "\n",
        "# Convert probabilities to class labels\n",
        "# Use argmax if it's a multiclass problem with probabilities per class\n",
        "y_pred = np.argmax(y_pred_prob, axis=1)\n",
        "\n",
        "# If Y_test is multilabel-indicator, convert y_pred to multilabel-indicator:\n",
        "from sklearn.preprocessing import MultiLabelBinarizer\n",
        "\n",
        "# Get all unique labels from Y_test\n",
        "all_labels = np.arange(Y_test.shape[1]) # Assumes labels are represented by columns\n",
        "\n",
        "mlb = MultiLabelBinarizer(classes=all_labels)\n",
        "y_pred_multilabel = mlb.fit_transform(y_pred.reshape(-1, 1))\n",
        "\n",
        "# Generate the classification report using the appropriate format:\n",
        "# If Y_test is multilabel-indicator\n",
        "print(classification_report(Y_test, y_pred_multilabel,target_names=labels))"
      ],
      "metadata": {
        "colab": {
          "base_uri": "https://localhost:8080/"
        },
        "id": "rcTQfbvKFmVt",
        "outputId": "26d94383-f0f7-4c99-a35e-45270f710959"
      },
      "execution_count": 38,
      "outputs": [
        {
          "output_type": "stream",
          "name": "stdout",
          "text": [
            "\u001b[1m259/259\u001b[0m \u001b[32m━━━━━━━━━━━━━━━━━━━━\u001b[0m\u001b[37m\u001b[0m \u001b[1m1s\u001b[0m 5ms/step\n",
            "                                    precision    recall  f1-score   support\n",
            "\n",
            "       poulet, kat. 1, paniert, ch       0.50      0.60      0.55        10\n",
            "                              eier       0.70      0.95      0.81        20\n",
            "             glutenfreie teigwaren       0.58      0.73      0.65        15\n",
            "                            sorbet       0.75      0.82      0.78        11\n",
            "                  kräuter, diverse       1.00      0.75      0.86         4\n",
            "             zwiebeln ungeheizt ch       1.00      1.00      1.00         4\n",
            "                        weizenbrot       0.78      0.90      0.84        20\n",
            "           kalbfleisch, kat. 2, ch       0.58      0.64      0.61        11\n",
            "        rindfleisch, innereien, ch       0.67      0.60      0.63        10\n",
            "                    shrimps, zucht       1.00      0.89      0.94         9\n",
            "           kalbfleisch, kat. 3, ch       0.25      0.67      0.36         3\n",
            "                          äpfel ch       0.24      0.71      0.36         7\n",
            "                 schweinswurst, ch       0.33      0.50      0.40         2\n",
            "                    milchspeiseeis       0.94      0.54      0.68        28\n",
            "                schokolade, übrige       0.84      0.64      0.73        25\n",
            "                südfrüchte, übrige       0.79      0.79      0.79        19\n",
            "                     sandwich vegi       0.71      0.48      0.58        31\n",
            "                           bananen       0.22      0.56      0.31         9\n",
            "                      tee, kräuter       0.85      0.67      0.75       116\n",
            "                    joghurt, choco       0.75      0.75      0.75        16\n",
            "           rindfleisch, kat. 2, ch       0.67      0.77      0.71        13\n",
            "                   joghurt, übrige       1.00      1.00      1.00         4\n",
            "                 milchmischgetränk       0.80      1.00      0.89         8\n",
            "                            bonbon       0.17      0.14      0.15         7\n",
            "                         apfelsaft       0.61      0.51      0.55        67\n",
            "                        gemüse, ka       0.74      0.81      0.77        21\n",
            "                 dunkle schokolade       0.92      0.89      0.91        38\n",
            "                            saucen       0.84      0.91      0.88        54\n",
            "                           nonfood       0.78      0.73      0.76        49\n",
            "                      süssgetränke       0.00      0.00      0.00         3\n",
            "               zuckerwaren, übrige       0.70      0.58      0.64        12\n",
            "                        kokosnüsse       0.50      1.00      0.67         1\n",
            "        fertiggerichte vegetarisch       0.62      0.83      0.71         6\n",
            "       schweinefleisch, kat. 3, ch       0.28      0.78      0.41         9\n",
            "             hülsenfrüchte, übrige       0.25      0.56      0.35        16\n",
            "                              wein       0.81      0.65      0.72        54\n",
            "      sandwich mit schweinefleisch       0.82      0.92      0.87        36\n",
            "                         pfirsiche       0.56      1.00      0.71         5\n",
            "                      grüne bohnen       0.12      0.25      0.17         4\n",
            "                   milchschokolade       0.37      0.65      0.47        17\n",
            "                gemüsewähe, übrige       0.67      0.89      0.76         9\n",
            "                          halbrahm       0.68      0.68      0.68        19\n",
            "  schweinefleisch, kat. 3, bio, ch       0.60      0.64      0.62        28\n",
            "                     eierteigwaren       0.45      1.00      0.62         5\n",
            "                            butter       1.00      1.00      1.00         7\n",
            "                        ovomaltine       0.75      1.00      0.86         3\n",
            "                        mayonnaise       0.70      0.78      0.74         9\n",
            "            knoblauch ungeheizt cn       0.98      0.98      0.98        45\n",
            "                          hartkäse       0.88      0.80      0.84        81\n",
            "                truten, kat. 1, ch       0.81      0.78      0.80        73\n",
            "                       salatsaucen       1.00      0.86      0.92         7\n",
            "                              reis       0.76      0.93      0.84        14\n",
            "  kohlgemüse, übrige, ungeheizt ch       0.86      0.92      0.89        13\n",
            "                    fleischmix, ch       0.67      0.67      0.67         3\n",
            "                        haselnüsse       0.80      0.94      0.86        17\n",
            "                salat ungeheizt ch       0.94      0.89      0.91        54\n",
            "                        milchdrink       0.56      1.00      0.71         5\n",
            "              kartoffelerzeugnisse       1.00      0.67      0.80         3\n",
            "                      brot, übrige       0.08      0.25      0.12         4\n",
            "                     kartoffeln ch       0.00      0.00      0.00         2\n",
            "                              mais       0.24      0.71      0.36         7\n",
            "            poulet, cordonbleu, ch       0.90      0.81      0.85        88\n",
            "                            oliven       0.48      0.28      0.35        40\n",
            "                   weizenteigwaren       0.12      1.00      0.22         1\n",
            "                          biskuits       0.50      0.45      0.48        11\n",
            "      fertiggerichte mit teigwaren       0.94      0.84      0.88       104\n",
            "                           gipfeli       0.56      0.76      0.64        25\n",
            "                 konfitüre, übrige       0.40      0.22      0.29        18\n",
            "               würzmittel, diverse       0.83      0.61      0.71        57\n",
            "                         weichkäse       0.64      0.88      0.74         8\n",
            "               gurken ungeheizt eu       0.96      0.66      0.78        35\n",
            "                          bouillon       0.75      0.95      0.84        19\n",
            "                            kuchen       0.87      0.56      0.68        86\n",
            "fruchtgemüse, übrige, ungeheizt ch       0.00      0.00      0.00         1\n",
            "                 meeresfisch, wild       0.50      0.43      0.46         7\n",
            "                    beeren, übrige       0.67      0.50      0.57        20\n",
            "              mineralwasser, still       0.38      0.67      0.48         9\n",
            "             peperoni ungeheizt eu       0.82      0.90      0.86        30\n",
            "                              zopf       0.80      0.73      0.76        11\n",
            "                     sahneschnitte       0.20      0.50      0.29         4\n",
            "                       spirituosen       0.83      1.00      0.91        24\n",
            "                             essig       0.12      0.20      0.15         5\n",
            "                              tofu       0.00      0.00      0.00        25\n",
            "           rindfleisch, kat. 1, ch       0.07      1.00      0.12         2\n",
            " fertiggerichte auf kartoffelbasis       0.86      1.00      0.92         6\n",
            "                            weizen       0.81      0.92      0.86        24\n",
            "                             honig       0.93      0.88      0.90       217\n",
            "              tomaten ungeheizt eu       0.78      1.00      0.88         7\n",
            "                          muscheln       0.33      0.75      0.46         4\n",
            "               fruchtsäfte, übrige       1.00      0.57      0.73         7\n",
            "                      apfelschorle       0.25      0.33      0.29         3\n",
            "                       karotten ch       0.64      0.53      0.58        34\n",
            "                            quinoa       0.67      0.73      0.70        11\n",
            "                             müsli       0.40      0.60      0.48        10\n",
            "                           melonen       0.00      0.00      0.00         1\n",
            "                        cornflakes       0.80      0.84      0.82        19\n",
            "                        kernenbrot       0.83      0.80      0.82        25\n",
            "               mineralwasser, laut       0.06      0.25      0.10         4\n",
            "       schweinefleisch, kat. 2, ch       0.60      0.74      0.66        65\n",
            "                            kaffee       0.64      0.59      0.62        27\n",
            "                          erdnüsse       0.55      0.34      0.42        47\n",
            "                meeresfisch, zucht       1.00      0.77      0.87        22\n",
            "                             quark       0.56      0.83      0.67         6\n",
            "                        spinatwähe       0.95      0.81      0.88        52\n",
            "                          kirschen       0.40      0.80      0.53         5\n",
            "                            erbsen       0.59      0.62      0.61        16\n",
            "               hilfsstoffe, übrige       1.00      1.00      1.00         4\n",
            "                     nüsse, übrige       0.60      0.86      0.71         7\n",
            "                        frischkäse       0.00      0.00      0.00         2\n",
            "                   kernen, diverse       0.88      0.78      0.82         9\n",
            "                              bier       0.30      1.00      0.46         3\n",
            "                       früchte, ka       0.79      0.50      0.61        44\n",
            "                         himbeeren       0.71      0.60      0.65        25\n",
            "                            mousse       0.02      1.00      0.05         1\n",
            "                          berliner       0.88      0.88      0.88        51\n",
            "                          brot, ka       0.29      0.33      0.31         6\n",
            "                              senf       0.78      0.75      0.76        28\n",
            "                           orangen       0.91      0.74      0.82        86\n",
            "                    spargeln ch/eu       0.91      0.86      0.88        69\n",
            "                poulet, kat. 1, ch       0.00      0.00      0.00         1\n",
            "                             torte       1.00      0.60      0.75         5\n",
            "           lammfleisch, kat. 2, ch       0.89      0.94      0.92        18\n",
            "                      mehl, übrige       0.93      0.68      0.79        19\n",
            "        kalbfleisch, innereien, ch       0.38      0.38      0.38         8\n",
            "                poulet, kat. 2, ch       0.13      0.67      0.22         3\n",
            "                    schinkengipfel       0.90      0.95      0.92        19\n",
            "          wurzelgemüse, übrige, ch       0.68      0.83      0.75        18\n",
            "                    frühlingsrolle       0.62      0.73      0.67        11\n",
            "                    kartoffelchips       0.00      0.00      0.00         2\n",
            "                     shrimps, wild       0.85      0.52      0.65        21\n",
            "                kabis ungeheizt ch       0.40      0.55      0.46        11\n",
            "                            rapsöl       0.54      0.82      0.65        17\n",
            "           rindfleisch, kat. 3, ch       0.76      0.65      0.70        43\n",
            "                      haferflocken       0.87      0.72      0.78       170\n",
            "                 steinobst, übrige       0.77      0.52      0.62       124\n",
            "                        weizenmehl       0.00      0.00      0.00         1\n",
            "                     bratwurst, ch       0.67      1.00      0.80         6\n",
            "                poulet, kat. 2, hu       0.31      0.56      0.40        16\n",
            "                             mango       0.00      0.00      0.00         2\n",
            "             alaska seelachs, wild       0.00      0.00      0.00         1\n",
            "              blätterteig, übriges       0.50      1.00      0.67         1\n",
            "                             pilze       0.50      0.50      0.50        16\n",
            "                  pizza margherita       0.58      0.64      0.61        11\n",
            "               spinat ungeheizt eu       0.67      1.00      0.80         4\n",
            "                          olivenöl       0.00      0.00      0.00         1\n",
            "                           ketchup       0.17      1.00      0.29         1\n",
            "                           trauben       0.00      0.00      0.00         1\n",
            "                       apfelkuchen       0.55      0.67      0.60         9\n",
            "                       orangensaft       0.86      1.00      0.92        12\n",
            "                             sirup       0.83      0.83      0.83        42\n",
            "                       rübenzucker       0.45      0.83      0.59         6\n",
            "               gurken ungeheizt ch       0.70      0.84      0.76        19\n",
            "                   joghurt, frucht       0.88      0.78      0.82        18\n",
            "          wurzelgemüse, übrige, eu       0.81      0.87      0.84        15\n",
            "           blumenkohl ungeheizt ch       0.57      0.67      0.62         6\n",
            "           lammfleisch, kat. 2, nz       1.00      0.92      0.96        26\n",
            "                            weggli       0.56      0.33      0.42        15\n",
            "             zitrusfrüchte, übrige       0.67      0.31      0.42        39\n",
            "             zwiebeln ungeheizt eu       0.33      0.67      0.44         3\n",
            "       schweinefleisch, kat. 1, ch       0.40      0.80      0.53         5\n",
            "                         kaugummis       1.00      0.93      0.96        27\n",
            "                 tee, grün/schwarz       0.65      1.00      0.79        11\n",
            "                         birnen ch       0.81      0.95      0.88        44\n",
            "      rindfleisch, kat. 1, bio, ch       0.20      1.00      0.33         1\n",
            "               dörrfrüchte, übrige       0.86      0.82      0.84       148\n",
            "             süsswasserfisch, wild       0.91      0.83      0.87       181\n",
            "                       lachs, wild       0.52      0.79      0.63        14\n",
            "                   thunfisch, wild       0.81      0.72      0.76        18\n",
            "                            ananas       0.80      0.76      0.78        63\n",
            "                         vollmilch       0.64      0.70      0.67        10\n",
            "                         margarine       0.77      0.57      0.65        53\n",
            " blattgemüse, übrige, ungeheizt eu       0.95      0.70      0.81       300\n",
            "                         aprikosen       0.36      0.57      0.44         7\n",
            "                          nussbrot       0.57      0.57      0.57        28\n",
            "fruchtgemüse, übrige, ungeheizt eu       0.95      0.97      0.96        37\n",
            "                   joghurt, nature       0.93      0.87      0.90        31\n",
            "                          walnüsse       0.87      0.72      0.79        18\n",
            "                            linsen       0.78      0.95      0.86        22\n",
            "                    sonnenblumenöl       0.67      0.91      0.77        22\n",
            "                   pouletwurst, ch       0.89      0.94      0.91        17\n",
            "                     aprikosenwähe       0.12      0.50      0.20         4\n",
            "                  brot, glutenfrei       0.81      0.67      0.73        45\n",
            "                    bohnen, übrige       1.00      0.90      0.95        29\n",
            "            süsswasserfisch, zucht       0.74      0.74      0.74        27\n",
            "                       gemüsesäfte       1.00      0.83      0.91        54\n",
            "            knoblauch ungeheizt ch       1.00      1.00      1.00         7\n",
            "                 birnen südamerika       0.12      0.67      0.21         3\n",
            "                          vollrahm       0.93      0.72      0.81        18\n",
            "                            cashew       0.62      0.71      0.67         7\n",
            "                        backpulver       0.42      0.83      0.56         6\n",
            "                     radieschen eu       0.00      0.00      0.00         1\n",
            "                truten, kat. 1, hu       0.60      0.33      0.43        63\n",
            "          sandwich mit rindfleisch       0.20      0.40      0.27         5\n",
            "                           mandeln       0.42      0.73      0.54        15\n",
            "                        würste, ka       0.50      0.52      0.51        21\n",
            "                              hefe       0.48      0.38      0.42        29\n",
            "             dorsch/kabeljau, wild       0.12      0.83      0.20         6\n",
            "                 wolfsbarsch, wild       0.20      0.50      0.29         2\n",
            "                       tomatenmark       0.54      0.64      0.58        11\n",
            "               kartoffeln, bio, ch       0.76      0.83      0.79        30\n",
            "  kohlgemüse, übrige, ungeheizt eu       0.83      1.00      0.91        10\n",
            "                             kakao       0.78      1.00      0.88         7\n",
            "      sandwich mit geflügelfleisch       0.00      0.00      0.00         1\n",
            "                salat ungeheizt eu       0.75      0.90      0.82        10\n",
            "                    samen, diverse       0.95      0.95      0.95        55\n",
            "           lammfleisch, kat. 1, ie       1.00      1.00      1.00         1\n",
            "                              salz       0.50      0.20      0.29         5\n",
            "                          käsewähe       0.00      0.00      0.00         2\n",
            " blattgemüse, übrige, ungeheizt ch       0.50      0.19      0.28        21\n",
            "            pflanzliche öle übrige       0.12      0.50      0.20         2\n",
            "                        dörrfeigen       0.67      0.40      0.50         5\n",
            "                        sultaninen       0.50      0.53      0.51        57\n",
            "                      erdbeeren es       0.33      0.33      0.33         3\n",
            "           lammfleisch, kat. 1, nz       0.64      0.57      0.60        56\n",
            "                        roggenbrot       0.17      1.00      0.29         1\n",
            "      rindfleisch, kat. 3, bio, ch       0.27      0.75      0.40         4\n",
            "                          marzipan       0.17      0.25      0.20         4\n",
            "           lammfleisch, kat. 2, ie       0.18      1.00      0.31         2\n",
            "              fenchel ungeheizt ch       0.75      0.75      0.75         4\n",
            "                poulet, kat. 1, hu       0.14      0.50      0.22         8\n",
            "                        sojabohnen       0.36      0.71      0.48        24\n",
            "                sandwich mit fisch       0.53      0.50      0.51        38\n",
            "                      vegane milch       0.86      0.79      0.83        96\n",
            "                         pistazien       0.12      0.12      0.12        17\n",
            "                      chäschüechli       0.93      0.92      0.92        60\n",
            "             broccoli ungeheizt ch       0.82      0.82      0.82        22\n",
            "                       bananen bio       0.36      0.90      0.51        10\n",
            "                    schokolade, ka       0.86      0.71      0.77        17\n",
            "                           avocado       0.60      0.40      0.48        15\n",
            "  schweinefleisch, kat. 2, bio, ch       0.38      0.85      0.52        13\n",
            "                pizza mit schinken       0.65      0.86      0.74        63\n",
            "                  erdbeerkonfitüre       0.80      0.58      0.67        64\n",
            "                     dörraprikosen       0.82      0.76      0.79       178\n",
            "                        rohrzucker       0.61      0.58      0.59        19\n",
            "                           waffeln       0.10      0.50      0.16         4\n",
            "           rindfleisch, kat. 3, us       0.72      0.61      0.66        83\n",
            "                  getreide, übrige       1.00      1.00      1.00         7\n",
            "                         omeletten       0.67      0.67      0.67         6\n",
            "                kabis ungeheizt eu       0.50      0.46      0.48        13\n",
            "                   pilzerzeugnisse       0.27      1.00      0.42         4\n",
            "                    süsskartoffeln       0.73      0.62      0.67        86\n",
            "             broccoli ungeheizt eu       0.67      0.67      0.67         3\n",
            "          fertiggericht mit poulet       0.00      0.00      0.00         1\n",
            "                aprikosenkonfitüre       0.59      0.51      0.55        39\n",
            "                       gemüsepizza       0.86      0.60      0.71        10\n",
            "                       dörrdatteln       0.00      0.00      0.00         1\n",
            "  schweinefleisch, saltimbocca, ch       0.00      0.00      0.00         1\n",
            "                           roulade       0.73      0.46      0.56        48\n",
            "                poulet, kat. 1, fr       0.50      1.00      0.67         1\n",
            "           rindfleisch, kat. 1, us       0.00      0.00      0.00         1\n",
            "            zucchetti ungeheizt eu       0.96      0.88      0.92        25\n",
            "                  spargeln übersee       1.00      0.27      0.43        11\n",
            "                         steinbutt       0.70      0.88      0.78        24\n",
            "                      hering, wild       0.78      0.80      0.79        44\n",
            "               truten, paniert, ch       0.50      0.55      0.52        11\n",
            "                  mehl, glutenfrei       0.58      0.88      0.70         8\n",
            "                     kartoffeln de       0.76      0.90      0.82        39\n",
            "               spinat ungeheizt ch       0.82      0.64      0.72        22\n",
            "                  himbeerkonfitüre       0.36      0.57      0.44         7\n",
            "              tomaten ungeheizt ch       0.67      1.00      0.80         4\n",
            "                    rotzunge, wild       0.88      0.88      0.88         8\n",
            "                   weizenbrot, bio       0.64      0.88      0.74         8\n",
            " lauchgemüse, übrige, ungeheizt ch       0.91      0.87      0.89        83\n",
            "                      broccoliwähe       0.00      0.00      0.00         1\n",
            "                       karotten eu       0.79      0.94      0.86        16\n",
            "                     radieschen ch       0.70      1.00      0.82         7\n",
            "                          zitronen       0.89      0.78      0.83        51\n",
            "       schweinefleisch, kat. 3, it       0.83      0.87      0.85       105\n",
            "       kalbfleisch, cordonbleu, ch       0.62      0.73      0.67        11\n",
            "                    heilbutt, wild       0.53      0.91      0.67        23\n",
            "           blumenkohl ungeheizt eu       0.91      0.68      0.78        63\n",
            "                  kernobst, übrige       0.66      0.68      0.67        28\n",
            "         fertiggericht mit schwein       0.86      0.79      0.82        82\n",
            "    schweinefleisch, innereien, ch       0.79      0.90      0.84        21\n",
            "                   seeteufel, wild       0.79      0.61      0.69        36\n",
            "                  goldbrasse, wild       0.37      0.79      0.50        14\n",
            "                        cheesecake       0.91      0.66      0.76        79\n",
            "      kalbfleisch, kat. 1, bio, ch       0.50      0.50      0.50         2\n",
            "                fruchtwähe, übrige       0.75      0.60      0.67         5\n",
            "                       milchpulver       0.70      0.55      0.62        60\n",
            "                        brombeeren       0.95      1.00      0.97        19\n",
            "                        maisstärke       0.40      0.57      0.47         7\n",
            "           kalbfleisch, kat. 1, ch       0.50      0.11      0.18         9\n",
            "                      erdbeeren ch       0.00      0.00      0.00         1\n",
            "       schweinefleisch, kat. 2, es       0.33      0.50      0.40         2\n",
            "                       kaffee, bio       1.00      1.00      1.00         1\n",
            "           lammfleisch, kat. 1, ch       0.84      0.67      0.74        24\n",
            "             peperoni ungeheizt ch       0.86      0.86      0.86        28\n",
            "      kalbfleisch, saltimbocca, ch       0.86      0.78      0.82        32\n",
            "                   rotbarsch, wild       0.25      0.50      0.33        14\n",
            "                        kuchen, ka       0.89      1.00      0.94         8\n",
            "           lammfleisch, kat. 3, nz       0.33      0.73      0.46        11\n",
            "            zucchetti ungeheizt ch       0.80      0.85      0.82        66\n",
            "                        blaubeeren       0.90      0.91      0.91       100\n",
            "      rindfleisch, kat. 2, bio, ch       0.75      0.60      0.67        20\n",
            "                     äpfel übersee       0.88      0.61      0.72       219\n",
            "           truten, saltimbocca, ch       1.00      0.75      0.86         4\n",
            "           poulet, saltimbocca, ch       0.46      0.50      0.48        22\n",
            "   schweinefleisch, cordonbleu, ch       0.83      0.83      0.83        78\n",
            "            fertiggericht mit rind       0.29      0.67      0.40         3\n",
            "      kalbfleisch, kat. 2, bio, ch       0.78      0.73      0.76        49\n",
            "           lammfleisch, kat. 3, ch       0.38      0.47      0.42        17\n",
            "                    seehecht, wild       0.50      1.00      0.67         4\n",
            "                       fleisch, ka       0.60      0.58      0.59       125\n",
            "           lammfleisch, kat. 3, ie       0.30      0.89      0.44         9\n",
            "                         erdnussöl       0.83      0.78      0.81        32\n",
            "      schweinefleisch, paniert, ch       0.70      0.76      0.73        34\n",
            "                         apfelwähe       0.43      1.00      0.60         3\n",
            "                     gurken winter       1.00      0.69      0.81        16\n",
            "                    tomaten winter       0.77      0.59      0.67       108\n",
            "                          reismehl       0.87      0.87      0.87        31\n",
            "                        hoki, wild       0.67      0.62      0.64        13\n",
            "             poulet, innereien, ch       0.96      0.82      0.89        67\n",
            "                truten, kat. 2, ch       0.29      0.67      0.40         3\n",
            "\n",
            "                         micro avg       0.72      0.72      0.72      8259\n",
            "                         macro avg       0.60      0.67      0.61      8259\n",
            "                      weighted avg       0.77      0.72      0.73      8259\n",
            "                       samples avg       0.72      0.72      0.72      8259\n",
            "\n"
          ]
        },
        {
          "output_type": "stream",
          "name": "stderr",
          "text": [
            "/usr/local/lib/python3.10/dist-packages/sklearn/metrics/_classification.py:1531: UndefinedMetricWarning: Precision is ill-defined and being set to 0.0 in labels with no predicted samples. Use `zero_division` parameter to control this behavior.\n",
            "  _warn_prf(average, modifier, f\"{metric.capitalize()} is\", len(result))\n"
          ]
        }
      ]
    },
    {
      "cell_type": "markdown",
      "source": [
        "#GRU"
      ],
      "metadata": {
        "id": "ReUSpIYBSmWG"
      }
    },
    {
      "cell_type": "code",
      "source": [
        "from tensorflow.keras.layers import GRU\n",
        "\n",
        "# GRU Model\n",
        "gru_model = Sequential([\n",
        "    Embedding(input_dim=20000, output_dim=50, input_length=20),\n",
        "    GRU(100),\n",
        "    Dense(64, activation='relu'),\n",
        "    Dense(314, activation='softmax')  # Adjust the output units for your number of classes\n",
        "])\n",
        "\n",
        "gru_model.compile(optimizer='adam', loss='categorical_crossentropy', metrics=['accuracy'])\n",
        "gru_model.summary()"
      ],
      "metadata": {
        "colab": {
          "base_uri": "https://localhost:8080/",
          "height": 257
        },
        "id": "i6cbVLFCAxDI",
        "outputId": "6b9ec802-fefa-46d7-8b1d-9fae4eefcda2"
      },
      "execution_count": 41,
      "outputs": [
        {
          "output_type": "display_data",
          "data": {
            "text/plain": [
              "\u001b[1mModel: \"sequential_3\"\u001b[0m\n"
            ],
            "text/html": [
              "<pre style=\"white-space:pre;overflow-x:auto;line-height:normal;font-family:Menlo,'DejaVu Sans Mono',consolas,'Courier New',monospace\"><span style=\"font-weight: bold\">Model: \"sequential_3\"</span>\n",
              "</pre>\n"
            ]
          },
          "metadata": {}
        },
        {
          "output_type": "display_data",
          "data": {
            "text/plain": [
              "┏━━━━━━━━━━━━━━━━━━━━━━━━━━━━━━━━━━━━━━┳━━━━━━━━━━━━━━━━━━━━━━━━━━━━━┳━━━━━━━━━━━━━━━━━┓\n",
              "┃\u001b[1m \u001b[0m\u001b[1mLayer (type)                        \u001b[0m\u001b[1m \u001b[0m┃\u001b[1m \u001b[0m\u001b[1mOutput Shape               \u001b[0m\u001b[1m \u001b[0m┃\u001b[1m \u001b[0m\u001b[1m        Param #\u001b[0m\u001b[1m \u001b[0m┃\n",
              "┡━━━━━━━━━━━━━━━━━━━━━━━━━━━━━━━━━━━━━━╇━━━━━━━━━━━━━━━━━━━━━━━━━━━━━╇━━━━━━━━━━━━━━━━━┩\n",
              "│ embedding_3 (\u001b[38;5;33mEmbedding\u001b[0m)              │ ?                           │     \u001b[38;5;34m0\u001b[0m (unbuilt) │\n",
              "├──────────────────────────────────────┼─────────────────────────────┼─────────────────┤\n",
              "│ gru_1 (\u001b[38;5;33mGRU\u001b[0m)                          │ ?                           │     \u001b[38;5;34m0\u001b[0m (unbuilt) │\n",
              "├──────────────────────────────────────┼─────────────────────────────┼─────────────────┤\n",
              "│ dense_4 (\u001b[38;5;33mDense\u001b[0m)                      │ ?                           │     \u001b[38;5;34m0\u001b[0m (unbuilt) │\n",
              "├──────────────────────────────────────┼─────────────────────────────┼─────────────────┤\n",
              "│ dense_5 (\u001b[38;5;33mDense\u001b[0m)                      │ ?                           │     \u001b[38;5;34m0\u001b[0m (unbuilt) │\n",
              "└──────────────────────────────────────┴─────────────────────────────┴─────────────────┘\n"
            ],
            "text/html": [
              "<pre style=\"white-space:pre;overflow-x:auto;line-height:normal;font-family:Menlo,'DejaVu Sans Mono',consolas,'Courier New',monospace\">┏━━━━━━━━━━━━━━━━━━━━━━━━━━━━━━━━━━━━━━┳━━━━━━━━━━━━━━━━━━━━━━━━━━━━━┳━━━━━━━━━━━━━━━━━┓\n",
              "┃<span style=\"font-weight: bold\"> Layer (type)                         </span>┃<span style=\"font-weight: bold\"> Output Shape                </span>┃<span style=\"font-weight: bold\">         Param # </span>┃\n",
              "┡━━━━━━━━━━━━━━━━━━━━━━━━━━━━━━━━━━━━━━╇━━━━━━━━━━━━━━━━━━━━━━━━━━━━━╇━━━━━━━━━━━━━━━━━┩\n",
              "│ embedding_3 (<span style=\"color: #0087ff; text-decoration-color: #0087ff\">Embedding</span>)              │ ?                           │     <span style=\"color: #00af00; text-decoration-color: #00af00\">0</span> (unbuilt) │\n",
              "├──────────────────────────────────────┼─────────────────────────────┼─────────────────┤\n",
              "│ gru_1 (<span style=\"color: #0087ff; text-decoration-color: #0087ff\">GRU</span>)                          │ ?                           │     <span style=\"color: #00af00; text-decoration-color: #00af00\">0</span> (unbuilt) │\n",
              "├──────────────────────────────────────┼─────────────────────────────┼─────────────────┤\n",
              "│ dense_4 (<span style=\"color: #0087ff; text-decoration-color: #0087ff\">Dense</span>)                      │ ?                           │     <span style=\"color: #00af00; text-decoration-color: #00af00\">0</span> (unbuilt) │\n",
              "├──────────────────────────────────────┼─────────────────────────────┼─────────────────┤\n",
              "│ dense_5 (<span style=\"color: #0087ff; text-decoration-color: #0087ff\">Dense</span>)                      │ ?                           │     <span style=\"color: #00af00; text-decoration-color: #00af00\">0</span> (unbuilt) │\n",
              "└──────────────────────────────────────┴─────────────────────────────┴─────────────────┘\n",
              "</pre>\n"
            ]
          },
          "metadata": {}
        },
        {
          "output_type": "display_data",
          "data": {
            "text/plain": [
              "\u001b[1m Total params: \u001b[0m\u001b[38;5;34m0\u001b[0m (0.00 B)\n"
            ],
            "text/html": [
              "<pre style=\"white-space:pre;overflow-x:auto;line-height:normal;font-family:Menlo,'DejaVu Sans Mono',consolas,'Courier New',monospace\"><span style=\"font-weight: bold\"> Total params: </span><span style=\"color: #00af00; text-decoration-color: #00af00\">0</span> (0.00 B)\n",
              "</pre>\n"
            ]
          },
          "metadata": {}
        },
        {
          "output_type": "display_data",
          "data": {
            "text/plain": [
              "\u001b[1m Trainable params: \u001b[0m\u001b[38;5;34m0\u001b[0m (0.00 B)\n"
            ],
            "text/html": [
              "<pre style=\"white-space:pre;overflow-x:auto;line-height:normal;font-family:Menlo,'DejaVu Sans Mono',consolas,'Courier New',monospace\"><span style=\"font-weight: bold\"> Trainable params: </span><span style=\"color: #00af00; text-decoration-color: #00af00\">0</span> (0.00 B)\n",
              "</pre>\n"
            ]
          },
          "metadata": {}
        },
        {
          "output_type": "display_data",
          "data": {
            "text/plain": [
              "\u001b[1m Non-trainable params: \u001b[0m\u001b[38;5;34m0\u001b[0m (0.00 B)\n"
            ],
            "text/html": [
              "<pre style=\"white-space:pre;overflow-x:auto;line-height:normal;font-family:Menlo,'DejaVu Sans Mono',consolas,'Courier New',monospace\"><span style=\"font-weight: bold\"> Non-trainable params: </span><span style=\"color: #00af00; text-decoration-color: #00af00\">0</span> (0.00 B)\n",
              "</pre>\n"
            ]
          },
          "metadata": {}
        }
      ]
    },
    {
      "cell_type": "code",
      "source": [
        "# Training the model\n",
        "history_gru=gru_model.fit(X_train, Y_train, epochs=10,class_weight=class_weights_dict, batch_size=128, validation_split=0.2,callbacks=[EarlyStopping(monitor='val_loss', patience=3, min_delta=0.0001)])\n"
      ],
      "metadata": {
        "colab": {
          "base_uri": "https://localhost:8080/"
        },
        "id": "foJbDkqCH762",
        "outputId": "cf1d7fbd-c72a-4e88-c94d-5048bd6fffef"
      },
      "execution_count": 42,
      "outputs": [
        {
          "output_type": "stream",
          "name": "stdout",
          "text": [
            "Epoch 1/10\n",
            "\u001b[1m207/207\u001b[0m \u001b[32m━━━━━━━━━━━━━━━━━━━━\u001b[0m\u001b[37m\u001b[0m \u001b[1m14s\u001b[0m 40ms/step - accuracy: 0.0125 - loss: 5.7559 - val_accuracy: 0.0443 - val_loss: 5.0429\n",
            "Epoch 2/10\n",
            "\u001b[1m207/207\u001b[0m \u001b[32m━━━━━━━━━━━━━━━━━━━━\u001b[0m\u001b[37m\u001b[0m \u001b[1m17s\u001b[0m 84ms/step - accuracy: 0.0710 - loss: 5.0599 - val_accuracy: 0.1503 - val_loss: 3.9354\n",
            "Epoch 3/10\n",
            "\u001b[1m207/207\u001b[0m \u001b[32m━━━━━━━━━━━━━━━━━━━━\u001b[0m\u001b[37m\u001b[0m \u001b[1m18s\u001b[0m 87ms/step - accuracy: 0.2312 - loss: 3.8358 - val_accuracy: 0.3172 - val_loss: 3.1138\n",
            "Epoch 4/10\n",
            "\u001b[1m207/207\u001b[0m \u001b[32m━━━━━━━━━━━━━━━━━━━━\u001b[0m\u001b[37m\u001b[0m \u001b[1m12s\u001b[0m 45ms/step - accuracy: 0.4230 - loss: 2.6349 - val_accuracy: 0.4377 - val_loss: 2.7146\n",
            "Epoch 5/10\n",
            "\u001b[1m207/207\u001b[0m \u001b[32m━━━━━━━━━━━━━━━━━━━━\u001b[0m\u001b[37m\u001b[0m \u001b[1m8s\u001b[0m 36ms/step - accuracy: 0.5731 - loss: 1.8077 - val_accuracy: 0.5166 - val_loss: 2.6551\n",
            "Epoch 6/10\n",
            "\u001b[1m207/207\u001b[0m \u001b[32m━━━━━━━━━━━━━━━━━━━━\u001b[0m\u001b[37m\u001b[0m \u001b[1m9s\u001b[0m 45ms/step - accuracy: 0.6926 - loss: 1.2203 - val_accuracy: 0.5480 - val_loss: 2.5816\n",
            "Epoch 7/10\n",
            "\u001b[1m207/207\u001b[0m \u001b[32m━━━━━━━━━━━━━━━━━━━━\u001b[0m\u001b[37m\u001b[0m \u001b[1m9s\u001b[0m 45ms/step - accuracy: 0.7635 - loss: 0.9117 - val_accuracy: 0.5953 - val_loss: 2.5832\n",
            "Epoch 8/10\n",
            "\u001b[1m207/207\u001b[0m \u001b[32m━━━━━━━━━━━━━━━━━━━━\u001b[0m\u001b[37m\u001b[0m \u001b[1m8s\u001b[0m 36ms/step - accuracy: 0.8077 - loss: 0.6982 - val_accuracy: 0.6035 - val_loss: 2.7059\n",
            "Epoch 9/10\n",
            "\u001b[1m207/207\u001b[0m \u001b[32m━━━━━━━━━━━━━━━━━━━━\u001b[0m\u001b[37m\u001b[0m \u001b[1m9s\u001b[0m 45ms/step - accuracy: 0.8382 - loss: 0.5342 - val_accuracy: 0.6177 - val_loss: 2.6648\n"
          ]
        }
      ]
    },
    {
      "cell_type": "code",
      "source": [
        "accr = gru_model.evaluate(X_test,Y_test)\n",
        "print('Test set\\n  Loss: {:0.3f}\\n  Accuracy: {:0.3f}'.format(accr[0],accr[1]))"
      ],
      "metadata": {
        "colab": {
          "base_uri": "https://localhost:8080/"
        },
        "id": "E10nT400fRJs",
        "outputId": "d62abf4f-bed9-4421-b04f-8ad60037cf35"
      },
      "execution_count": 43,
      "outputs": [
        {
          "output_type": "stream",
          "name": "stdout",
          "text": [
            "\u001b[1m259/259\u001b[0m \u001b[32m━━━━━━━━━━━━━━━━━━━━\u001b[0m\u001b[37m\u001b[0m \u001b[1m1s\u001b[0m 4ms/step - accuracy: 0.6295 - loss: 2.4973\n",
            "Test set\n",
            "  Loss: 2.555\n",
            "  Accuracy: 0.623\n"
          ]
        }
      ]
    },
    {
      "cell_type": "code",
      "source": [
        "import matplotlib.pyplot as plt\n",
        "plt.title('Loss')\n",
        "plt.plot(history_gru.history['loss'], label='train')\n",
        "plt.plot(history_gru.history['val_loss'], label='test')\n",
        "plt.legend()\n",
        "plt.show();"
      ],
      "metadata": {
        "colab": {
          "base_uri": "https://localhost:8080/",
          "height": 452
        },
        "id": "ZwH-Z8uDf2Zn",
        "outputId": "846e2357-1145-49f6-9601-2547c8054d58"
      },
      "execution_count": 44,
      "outputs": [
        {
          "output_type": "display_data",
          "data": {
            "text/plain": [
              "<Figure size 640x480 with 1 Axes>"
            ],
            "image/png": "[encoded data removed]"
          },
          "metadata": {}
        }
      ]
    },
    {
      "cell_type": "code",
      "source": [
        "plt.title('Accuracy')\n",
        "plt.plot(history_gru.history['accuracy'], label='train')\n",
        "plt.plot(history_gru.history['val_accuracy'], label='test')\n",
        "plt.legend()\n",
        "plt.show();"
      ],
      "metadata": {
        "colab": {
          "base_uri": "https://localhost:8080/",
          "height": 452
        },
        "id": "gthihCxxgRNt",
        "outputId": "4433501e-a634-4263-8263-e926f9c3e17d"
      },
      "execution_count": 45,
      "outputs": [
        {
          "output_type": "display_data",
          "data": {
            "text/plain": [
              "<Figure size 640x480 with 1 Axes>"
            ],
            "image/png": "[encoded data removed]"
          },
          "metadata": {}
        }
      ]
    },
    {
      "cell_type": "code",
      "source": [
        "# import sklearn.metrics as metrics\n",
        "# from sklearn.metrics import classification_report\n",
        "# y_pred_prob = gru_model.predict(X_test)  # Outputs probabilities\n",
        "\n",
        "# # Convert probabilities to class labels\n",
        "# # Use argmax if it's a multiclass problem with probabilities per class\n",
        "# y_pred = np.argmax(y_pred_prob, axis=1)\n",
        "\n",
        "# # If Y_test is multilabel-indicator, convert y_pred to multilabel-indicator:\n",
        "# from sklearn.preprocessing import MultiLabelBinarizer\n",
        "\n",
        "# # Get all unique labels from Y_test\n",
        "# all_labels = np.arange(Y_test.shape[1]) # Assumes labels are represented by columns\n",
        "\n",
        "# mlb = MultiLabelBinarizer(classes=all_labels)\n",
        "# y_pred_multilabel = mlb.fit_transform(y_pred.reshape(-1, 1))\n",
        "\n",
        "# # Generate the classification report using the appropriate format:\n",
        "# # If Y_test is multilabel-indicator\n",
        "# print(classification_report(Y_test, y_pred_multilabel,target_names=labels))"
      ],
      "metadata": {
        "id": "1qHoHk97gfni"
      },
      "execution_count": 46,
      "outputs": []
    },
    {
      "cell_type": "markdown",
      "source": [
        "#RNN"
      ],
      "metadata": {
        "id": "oZ_hXUmySpxg"
      }
    },
    {
      "cell_type": "code",
      "source": [
        "# RNN Model\n",
        "from tensorflow.keras.layers import SimpleRNN\n",
        "rnn_model = Sequential([\n",
        "    Embedding(input_dim=20000, output_dim=50, input_length=20),\n",
        "    SimpleRNN(100),\n",
        "    Dense(64, activation='relu'),\n",
        "    Dense(314, activation='softmax')  # Adjust the output units for your number of classes\n",
        "])\n",
        "\n",
        "rnn_model.compile(optimizer='adam', loss='categorical_crossentropy', metrics=['accuracy'])\n",
        "rnn_model.summary()"
      ],
      "metadata": {
        "colab": {
          "base_uri": "https://localhost:8080/",
          "height": 257
        },
        "id": "YWEPiHrOj9Z6",
        "outputId": "e383c2b8-1ff2-4e0f-b05e-fe59b6d343bd"
      },
      "execution_count": 47,
      "outputs": [
        {
          "output_type": "display_data",
          "data": {
            "text/plain": [
              "\u001b[1mModel: \"sequential_4\"\u001b[0m\n"
            ],
            "text/html": [
              "<pre style=\"white-space:pre;overflow-x:auto;line-height:normal;font-family:Menlo,'DejaVu Sans Mono',consolas,'Courier New',monospace\"><span style=\"font-weight: bold\">Model: \"sequential_4\"</span>\n",
              "</pre>\n"
            ]
          },
          "metadata": {}
        },
        {
          "output_type": "display_data",
          "data": {
            "text/plain": [
              "┏━━━━━━━━━━━━━━━━━━━━━━━━━━━━━━━━━━━━━━┳━━━━━━━━━━━━━━━━━━━━━━━━━━━━━┳━━━━━━━━━━━━━━━━━┓\n",
              "┃\u001b[1m \u001b[0m\u001b[1mLayer (type)                        \u001b[0m\u001b[1m \u001b[0m┃\u001b[1m \u001b[0m\u001b[1mOutput Shape               \u001b[0m\u001b[1m \u001b[0m┃\u001b[1m \u001b[0m\u001b[1m        Param #\u001b[0m\u001b[1m \u001b[0m┃\n",
              "┡━━━━━━━━━━━━━━━━━━━━━━━━━━━━━━━━━━━━━━╇━━━━━━━━━━━━━━━━━━━━━━━━━━━━━╇━━━━━━━━━━━━━━━━━┩\n",
              "│ embedding_4 (\u001b[38;5;33mEmbedding\u001b[0m)              │ ?                           │     \u001b[38;5;34m0\u001b[0m (unbuilt) │\n",
              "├──────────────────────────────────────┼─────────────────────────────┼─────────────────┤\n",
              "│ simple_rnn (\u001b[38;5;33mSimpleRNN\u001b[0m)               │ ?                           │     \u001b[38;5;34m0\u001b[0m (unbuilt) │\n",
              "├──────────────────────────────────────┼─────────────────────────────┼─────────────────┤\n",
              "│ dense_6 (\u001b[38;5;33mDense\u001b[0m)                      │ ?                           │     \u001b[38;5;34m0\u001b[0m (unbuilt) │\n",
              "├──────────────────────────────────────┼─────────────────────────────┼─────────────────┤\n",
              "│ dense_7 (\u001b[38;5;33mDense\u001b[0m)                      │ ?                           │     \u001b[38;5;34m0\u001b[0m (unbuilt) │\n",
              "└──────────────────────────────────────┴─────────────────────────────┴─────────────────┘\n"
            ],
            "text/html": [
              "<pre style=\"white-space:pre;overflow-x:auto;line-height:normal;font-family:Menlo,'DejaVu Sans Mono',consolas,'Courier New',monospace\">┏━━━━━━━━━━━━━━━━━━━━━━━━━━━━━━━━━━━━━━┳━━━━━━━━━━━━━━━━━━━━━━━━━━━━━┳━━━━━━━━━━━━━━━━━┓\n",
              "┃<span style=\"font-weight: bold\"> Layer (type)                         </span>┃<span style=\"font-weight: bold\"> Output Shape                </span>┃<span style=\"font-weight: bold\">         Param # </span>┃\n",
              "┡━━━━━━━━━━━━━━━━━━━━━━━━━━━━━━━━━━━━━━╇━━━━━━━━━━━━━━━━━━━━━━━━━━━━━╇━━━━━━━━━━━━━━━━━┩\n",
              "│ embedding_4 (<span style=\"color: #0087ff; text-decoration-color: #0087ff\">Embedding</span>)              │ ?                           │     <span style=\"color: #00af00; text-decoration-color: #00af00\">0</span> (unbuilt) │\n",
              "├──────────────────────────────────────┼─────────────────────────────┼─────────────────┤\n",
              "│ simple_rnn (<span style=\"color: #0087ff; text-decoration-color: #0087ff\">SimpleRNN</span>)               │ ?                           │     <span style=\"color: #00af00; text-decoration-color: #00af00\">0</span> (unbuilt) │\n",
              "├──────────────────────────────────────┼─────────────────────────────┼─────────────────┤\n",
              "│ dense_6 (<span style=\"color: #0087ff; text-decoration-color: #0087ff\">Dense</span>)                      │ ?                           │     <span style=\"color: #00af00; text-decoration-color: #00af00\">0</span> (unbuilt) │\n",
              "├──────────────────────────────────────┼─────────────────────────────┼─────────────────┤\n",
              "│ dense_7 (<span style=\"color: #0087ff; text-decoration-color: #0087ff\">Dense</span>)                      │ ?                           │     <span style=\"color: #00af00; text-decoration-color: #00af00\">0</span> (unbuilt) │\n",
              "└──────────────────────────────────────┴─────────────────────────────┴─────────────────┘\n",
              "</pre>\n"
            ]
          },
          "metadata": {}
        },
        {
          "output_type": "display_data",
          "data": {
            "text/plain": [
              "\u001b[1m Total params: \u001b[0m\u001b[38;5;34m0\u001b[0m (0.00 B)\n"
            ],
            "text/html": [
              "<pre style=\"white-space:pre;overflow-x:auto;line-height:normal;font-family:Menlo,'DejaVu Sans Mono',consolas,'Courier New',monospace\"><span style=\"font-weight: bold\"> Total params: </span><span style=\"color: #00af00; text-decoration-color: #00af00\">0</span> (0.00 B)\n",
              "</pre>\n"
            ]
          },
          "metadata": {}
        },
        {
          "output_type": "display_data",
          "data": {
            "text/plain": [
              "\u001b[1m Trainable params: \u001b[0m\u001b[38;5;34m0\u001b[0m (0.00 B)\n"
            ],
            "text/html": [
              "<pre style=\"white-space:pre;overflow-x:auto;line-height:normal;font-family:Menlo,'DejaVu Sans Mono',consolas,'Courier New',monospace\"><span style=\"font-weight: bold\"> Trainable params: </span><span style=\"color: #00af00; text-decoration-color: #00af00\">0</span> (0.00 B)\n",
              "</pre>\n"
            ]
          },
          "metadata": {}
        },
        {
          "output_type": "display_data",
          "data": {
            "text/plain": [
              "\u001b[1m Non-trainable params: \u001b[0m\u001b[38;5;34m0\u001b[0m (0.00 B)\n"
            ],
            "text/html": [
              "<pre style=\"white-space:pre;overflow-x:auto;line-height:normal;font-family:Menlo,'DejaVu Sans Mono',consolas,'Courier New',monospace\"><span style=\"font-weight: bold\"> Non-trainable params: </span><span style=\"color: #00af00; text-decoration-color: #00af00\">0</span> (0.00 B)\n",
              "</pre>\n"
            ]
          },
          "metadata": {}
        }
      ]
    },
    {
      "cell_type": "code",
      "source": [
        "# Training the model\n",
        "history_rnn=rnn_model.fit(X_train, Y_train, epochs=10,class_weight=class_weights_dict, batch_size=128, validation_split=0.2,callbacks=[EarlyStopping(monitor='val_loss', patience=3, min_delta=0.0001)])"
      ],
      "metadata": {
        "colab": {
          "base_uri": "https://localhost:8080/"
        },
        "id": "p7Nb0AmukLGN",
        "outputId": "d19c5679-814f-418f-db8b-62643aa88847"
      },
      "execution_count": 48,
      "outputs": [
        {
          "output_type": "stream",
          "name": "stdout",
          "text": [
            "Epoch 1/10\n",
            "\u001b[1m207/207\u001b[0m \u001b[32m━━━━━━━━━━━━━━━━━━━━\u001b[0m\u001b[37m\u001b[0m \u001b[1m10s\u001b[0m 24ms/step - accuracy: 0.0168 - loss: 5.7566 - val_accuracy: 0.0678 - val_loss: 5.2988\n",
            "Epoch 2/10\n",
            "\u001b[1m207/207\u001b[0m \u001b[32m━━━━━━━━━━━━━━━━━━━━\u001b[0m\u001b[37m\u001b[0m \u001b[1m6s\u001b[0m 27ms/step - accuracy: 0.1029 - loss: 5.1665 - val_accuracy: 0.2023 - val_loss: 3.8768\n",
            "Epoch 3/10\n",
            "\u001b[1m207/207\u001b[0m \u001b[32m━━━━━━━━━━━━━━━━━━━━\u001b[0m\u001b[37m\u001b[0m \u001b[1m9s\u001b[0m 19ms/step - accuracy: 0.2995 - loss: 3.7370 - val_accuracy: 0.3597 - val_loss: 3.0576\n",
            "Epoch 4/10\n",
            "\u001b[1m207/207\u001b[0m \u001b[32m━━━━━━━━━━━━━━━━━━━━\u001b[0m\u001b[37m\u001b[0m \u001b[1m5s\u001b[0m 26ms/step - accuracy: 0.4872 - loss: 2.4380 - val_accuracy: 0.4166 - val_loss: 2.8287\n",
            "Epoch 5/10\n",
            "\u001b[1m207/207\u001b[0m \u001b[32m━━━━━━━━━━━━━━━━━━━━\u001b[0m\u001b[37m\u001b[0m \u001b[1m4s\u001b[0m 19ms/step - accuracy: 0.6278 - loss: 1.5902 - val_accuracy: 0.4794 - val_loss: 2.5692\n",
            "Epoch 6/10\n",
            "\u001b[1m207/207\u001b[0m \u001b[32m━━━━━━━━━━━━━━━━━━━━\u001b[0m\u001b[37m\u001b[0m \u001b[1m5s\u001b[0m 19ms/step - accuracy: 0.7369 - loss: 1.0237 - val_accuracy: 0.5056 - val_loss: 2.5361\n",
            "Epoch 7/10\n",
            "\u001b[1m207/207\u001b[0m \u001b[32m━━━━━━━━━━━━━━━━━━━━\u001b[0m\u001b[37m\u001b[0m \u001b[1m6s\u001b[0m 27ms/step - accuracy: 0.7979 - loss: 0.7188 - val_accuracy: 0.5437 - val_loss: 2.4524\n",
            "Epoch 8/10\n",
            "\u001b[1m207/207\u001b[0m \u001b[32m━━━━━━━━━━━━━━━━━━━━\u001b[0m\u001b[37m\u001b[0m \u001b[1m9s\u001b[0m 19ms/step - accuracy: 0.8553 - loss: 0.4773 - val_accuracy: 0.5369 - val_loss: 2.6555\n",
            "Epoch 9/10\n",
            "\u001b[1m207/207\u001b[0m \u001b[32m━━━━━━━━━━━━━━━━━━━━\u001b[0m\u001b[37m\u001b[0m \u001b[1m5s\u001b[0m 26ms/step - accuracy: 0.8818 - loss: 0.3663 - val_accuracy: 0.5256 - val_loss: 2.8554\n",
            "Epoch 10/10\n",
            "\u001b[1m207/207\u001b[0m \u001b[32m━━━━━━━━━━━━━━━━━━━━\u001b[0m\u001b[37m\u001b[0m \u001b[1m9s\u001b[0m 19ms/step - accuracy: 0.9027 - loss: 0.2937 - val_accuracy: 0.5811 - val_loss: 2.6225\n"
          ]
        }
      ]
    },
    {
      "cell_type": "code",
      "source": [
        "incraccr = rnn_model.evaluate(X_test,Y_test)\n",
        "print('Test set\\n  Loss: {:0.3f}\\n  Accuracy: {:0.3f}'.format(accr[0],accr[1]))"
      ],
      "metadata": {
        "colab": {
          "base_uri": "https://localhost:8080/"
        },
        "id": "xr7mM9NqkfCL",
        "outputId": "d2a7fc35-e536-4615-b0cc-03dc5ea45ea9"
      },
      "execution_count": 49,
      "outputs": [
        {
          "output_type": "stream",
          "name": "stdout",
          "text": [
            "\u001b[1m259/259\u001b[0m \u001b[32m━━━━━━━━━━━━━━━━━━━━\u001b[0m\u001b[37m\u001b[0m \u001b[1m1s\u001b[0m 3ms/step - accuracy: 0.5790 - loss: 2.5401\n",
            "Test set\n",
            "  Loss: 2.555\n",
            "  Accuracy: 0.623\n"
          ]
        }
      ]
    },
    {
      "cell_type": "code",
      "source": [],
      "metadata": {
        "id": "Gk9dHhxrJVFm"
      },
      "execution_count": null,
      "outputs": []
    }
  ]
}